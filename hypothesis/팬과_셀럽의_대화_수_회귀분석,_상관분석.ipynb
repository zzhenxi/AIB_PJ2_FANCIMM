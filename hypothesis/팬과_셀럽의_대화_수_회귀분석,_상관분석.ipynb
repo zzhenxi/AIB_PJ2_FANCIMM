{
  "nbformat": 4,
  "nbformat_minor": 0,
  "metadata": {
    "colab": {
      "name": "팬과 셀럽의 대화 수 회귀분석, 상관분석.ipynb",
      "provenance": [],
      "collapsed_sections": []
    },
    "kernelspec": {
      "name": "python3",
      "display_name": "Python 3"
    },
    "language_info": {
      "name": "python"
    }
  },
  "cells": [
    {
      "cell_type": "markdown",
      "source": [
        "#데이터 불러오기"
      ],
      "metadata": {
        "id": "CicqLBwTp3J2"
      }
    },
    {
      "cell_type": "code",
      "execution_count": 10,
      "metadata": {
        "id": "24bpRhEGdWSK"
      },
      "outputs": [],
      "source": [
        "import pandas as pd\n",
        "import warnings\n",
        "warnings.filterwarnings('ignore')"
      ]
    },
    {
      "cell_type": "code",
      "source": [
        "df = pd.read_csv('/content/drive/MyDrive/CP22/[jh]labeled_data_0113_new.csv')"
      ],
      "metadata": {
        "id": "P-lzFDSWeMgX"
      },
      "execution_count": 11,
      "outputs": []
    },
    {
      "cell_type": "code",
      "source": [
        "df.columns"
      ],
      "metadata": {
        "colab": {
          "base_uri": "https://localhost:8080/"
        },
        "id": "J-XnK5ngefj3",
        "outputId": "cfdbe47c-122f-4711-8632-9362ee1b292a"
      },
      "execution_count": 12,
      "outputs": [
        {
          "output_type": "execute_result",
          "data": {
            "text/plain": [
              "Index(['Unnamed: 0', 'Unnamed: 0.1', 'date', 'time', 'celeb', 'code',\n",
              "       'comments', 'file', 'label'],\n",
              "      dtype='object')"
            ]
          },
          "metadata": {},
          "execution_count": 12
        }
      ]
    },
    {
      "cell_type": "code",
      "source": [
        "df.drop(['Unnamed: 0', 'Unnamed: 0.1'], axis=1, inplace=True)"
      ],
      "metadata": {
        "id": "gBlJsmHreOxu"
      },
      "execution_count": 13,
      "outputs": []
    },
    {
      "cell_type": "code",
      "source": [
        "df.label.value_counts()"
      ],
      "metadata": {
        "colab": {
          "base_uri": "https://localhost:8080/"
        },
        "id": "gDYrCqPcfLH4",
        "outputId": "e5e54db6-1fa0-463f-b1dd-046fc7ae9a59"
      },
      "execution_count": 14,
      "outputs": [
        {
          "output_type": "execute_result",
          "data": {
            "text/plain": [
              "1    8001\n",
              "2    2229\n",
              "0      67\n",
              "Name: label, dtype: int64"
            ]
          },
          "metadata": {},
          "execution_count": 14
        }
      ]
    },
    {
      "cell_type": "markdown",
      "source": [
        "#데이터 전처리"
      ],
      "metadata": {
        "id": "d1kXffD0p9qg"
      }
    },
    {
      "cell_type": "code",
      "source": [
        "#날짜별 각 방의 대화 수 카운트\n",
        "a = pd.DataFrame(df.groupby(['date', 'celeb', 'code'])['comments'].count())"
      ],
      "metadata": {
        "id": "FqEH97j2zY60"
      },
      "execution_count": 15,
      "outputs": []
    },
    {
      "cell_type": "code",
      "source": [
        "a1 = a.reset_index()"
      ],
      "metadata": {
        "id": "6RduxqDEs6dt"
      },
      "execution_count": 16,
      "outputs": []
    },
    {
      "cell_type": "code",
      "source": [
        "#셀럽의 대화(True), 팬의 대화(False)로 구분하기\n",
        "a1 = pd.DataFrame(a1.groupby(['date','celeb', a1.celeb==a1.code])['comments'].sum())"
      ],
      "metadata": {
        "id": "hkWMuoZAxiNN"
      },
      "execution_count": 17,
      "outputs": []
    },
    {
      "cell_type": "code",
      "source": [
        "#각 날짜, 대화방 별로 False(팬 대화), True(셀럽 대화) 열 추가\n",
        "a1 = a1.unstack().fillna(0)"
      ],
      "metadata": {
        "id": "Vfb3KzUNQazB"
      },
      "execution_count": 18,
      "outputs": []
    },
    {
      "cell_type": "code",
      "source": [
        "a1.head()"
      ],
      "metadata": {
        "colab": {
          "base_uri": "https://localhost:8080/",
          "height": 269
        },
        "id": "Ke8692CMqkzm",
        "outputId": "cf3eefd5-682a-44ff-b2c7-7426668064af"
      },
      "execution_count": 19,
      "outputs": [
        {
          "output_type": "execute_result",
          "data": {
            "text/html": [
              "\n",
              "  <div id=\"df-4c441b2a-eaaa-4b06-a55d-be5718de7f55\">\n",
              "    <div class=\"colab-df-container\">\n",
              "      <div>\n",
              "<style scoped>\n",
              "    .dataframe tbody tr th:only-of-type {\n",
              "        vertical-align: middle;\n",
              "    }\n",
              "\n",
              "    .dataframe tbody tr th {\n",
              "        vertical-align: top;\n",
              "    }\n",
              "\n",
              "    .dataframe thead tr th {\n",
              "        text-align: left;\n",
              "    }\n",
              "\n",
              "    .dataframe thead tr:last-of-type th {\n",
              "        text-align: right;\n",
              "    }\n",
              "</style>\n",
              "<table border=\"1\" class=\"dataframe\">\n",
              "  <thead>\n",
              "    <tr>\n",
              "      <th></th>\n",
              "      <th></th>\n",
              "      <th colspan=\"2\" halign=\"left\">comments</th>\n",
              "    </tr>\n",
              "    <tr>\n",
              "      <th></th>\n",
              "      <th></th>\n",
              "      <th>False</th>\n",
              "      <th>True</th>\n",
              "    </tr>\n",
              "    <tr>\n",
              "      <th>date</th>\n",
              "      <th>celeb</th>\n",
              "      <th></th>\n",
              "      <th></th>\n",
              "    </tr>\n",
              "  </thead>\n",
              "  <tbody>\n",
              "    <tr>\n",
              "      <th>2021-06-12</th>\n",
              "      <th>CJSL</th>\n",
              "      <td>1.0</td>\n",
              "      <td>3.0</td>\n",
              "    </tr>\n",
              "    <tr>\n",
              "      <th>2021-06-13</th>\n",
              "      <th>CJSL</th>\n",
              "      <td>75.0</td>\n",
              "      <td>29.0</td>\n",
              "    </tr>\n",
              "    <tr>\n",
              "      <th>2021-06-14</th>\n",
              "      <th>CJSL</th>\n",
              "      <td>25.0</td>\n",
              "      <td>6.0</td>\n",
              "    </tr>\n",
              "    <tr>\n",
              "      <th>2021-06-15</th>\n",
              "      <th>CJSL</th>\n",
              "      <td>20.0</td>\n",
              "      <td>9.0</td>\n",
              "    </tr>\n",
              "    <tr>\n",
              "      <th>2021-06-16</th>\n",
              "      <th>CJSL</th>\n",
              "      <td>36.0</td>\n",
              "      <td>13.0</td>\n",
              "    </tr>\n",
              "  </tbody>\n",
              "</table>\n",
              "</div>\n",
              "      <button class=\"colab-df-convert\" onclick=\"convertToInteractive('df-4c441b2a-eaaa-4b06-a55d-be5718de7f55')\"\n",
              "              title=\"Convert this dataframe to an interactive table.\"\n",
              "              style=\"display:none;\">\n",
              "        \n",
              "  <svg xmlns=\"http://www.w3.org/2000/svg\" height=\"24px\"viewBox=\"0 0 24 24\"\n",
              "       width=\"24px\">\n",
              "    <path d=\"M0 0h24v24H0V0z\" fill=\"none\"/>\n",
              "    <path d=\"M18.56 5.44l.94 2.06.94-2.06 2.06-.94-2.06-.94-.94-2.06-.94 2.06-2.06.94zm-11 1L8.5 8.5l.94-2.06 2.06-.94-2.06-.94L8.5 2.5l-.94 2.06-2.06.94zm10 10l.94 2.06.94-2.06 2.06-.94-2.06-.94-.94-2.06-.94 2.06-2.06.94z\"/><path d=\"M17.41 7.96l-1.37-1.37c-.4-.4-.92-.59-1.43-.59-.52 0-1.04.2-1.43.59L10.3 9.45l-7.72 7.72c-.78.78-.78 2.05 0 2.83L4 21.41c.39.39.9.59 1.41.59.51 0 1.02-.2 1.41-.59l7.78-7.78 2.81-2.81c.8-.78.8-2.07 0-2.86zM5.41 20L4 18.59l7.72-7.72 1.47 1.35L5.41 20z\"/>\n",
              "  </svg>\n",
              "      </button>\n",
              "      \n",
              "  <style>\n",
              "    .colab-df-container {\n",
              "      display:flex;\n",
              "      flex-wrap:wrap;\n",
              "      gap: 12px;\n",
              "    }\n",
              "\n",
              "    .colab-df-convert {\n",
              "      background-color: #E8F0FE;\n",
              "      border: none;\n",
              "      border-radius: 50%;\n",
              "      cursor: pointer;\n",
              "      display: none;\n",
              "      fill: #1967D2;\n",
              "      height: 32px;\n",
              "      padding: 0 0 0 0;\n",
              "      width: 32px;\n",
              "    }\n",
              "\n",
              "    .colab-df-convert:hover {\n",
              "      background-color: #E2EBFA;\n",
              "      box-shadow: 0px 1px 2px rgba(60, 64, 67, 0.3), 0px 1px 3px 1px rgba(60, 64, 67, 0.15);\n",
              "      fill: #174EA6;\n",
              "    }\n",
              "\n",
              "    [theme=dark] .colab-df-convert {\n",
              "      background-color: #3B4455;\n",
              "      fill: #D2E3FC;\n",
              "    }\n",
              "\n",
              "    [theme=dark] .colab-df-convert:hover {\n",
              "      background-color: #434B5C;\n",
              "      box-shadow: 0px 1px 3px 1px rgba(0, 0, 0, 0.15);\n",
              "      filter: drop-shadow(0px 1px 2px rgba(0, 0, 0, 0.3));\n",
              "      fill: #FFFFFF;\n",
              "    }\n",
              "  </style>\n",
              "\n",
              "      <script>\n",
              "        const buttonEl =\n",
              "          document.querySelector('#df-4c441b2a-eaaa-4b06-a55d-be5718de7f55 button.colab-df-convert');\n",
              "        buttonEl.style.display =\n",
              "          google.colab.kernel.accessAllowed ? 'block' : 'none';\n",
              "\n",
              "        async function convertToInteractive(key) {\n",
              "          const element = document.querySelector('#df-4c441b2a-eaaa-4b06-a55d-be5718de7f55');\n",
              "          const dataTable =\n",
              "            await google.colab.kernel.invokeFunction('convertToInteractive',\n",
              "                                                     [key], {});\n",
              "          if (!dataTable) return;\n",
              "\n",
              "          const docLinkHtml = 'Like what you see? Visit the ' +\n",
              "            '<a target=\"_blank\" href=https://colab.research.google.com/notebooks/data_table.ipynb>data table notebook</a>'\n",
              "            + ' to learn more about interactive tables.';\n",
              "          element.innerHTML = '';\n",
              "          dataTable['output_type'] = 'display_data';\n",
              "          await google.colab.output.renderOutput(dataTable, element);\n",
              "          const docLink = document.createElement('div');\n",
              "          docLink.innerHTML = docLinkHtml;\n",
              "          element.appendChild(docLink);\n",
              "        }\n",
              "      </script>\n",
              "    </div>\n",
              "  </div>\n",
              "  "
            ],
            "text/plain": [
              "                 comments      \n",
              "                    False True \n",
              "date       celeb               \n",
              "2021-06-12 CJSL       1.0   3.0\n",
              "2021-06-13 CJSL      75.0  29.0\n",
              "2021-06-14 CJSL      25.0   6.0\n",
              "2021-06-15 CJSL      20.0   9.0\n",
              "2021-06-16 CJSL      36.0  13.0"
            ]
          },
          "metadata": {},
          "execution_count": 19
        }
      ]
    },
    {
      "cell_type": "code",
      "source": [
        "a1.columns"
      ],
      "metadata": {
        "colab": {
          "base_uri": "https://localhost:8080/"
        },
        "id": "CdKXuFj56zW0",
        "outputId": "22ccffc4-5b14-45a7-9693-c646188bff6e"
      },
      "execution_count": 20,
      "outputs": [
        {
          "output_type": "execute_result",
          "data": {
            "text/plain": [
              "MultiIndex([('comments', False),\n",
              "            ('comments',  True)],\n",
              "           )"
            ]
          },
          "metadata": {},
          "execution_count": 20
        }
      ]
    },
    {
      "cell_type": "code",
      "source": [
        "#Multi Index 컬럼을 Single Index컬럼으로 변환\n",
        "a1.columns = a1.columns.droplevel(0)"
      ],
      "metadata": {
        "id": "1FlJfn8DzMLd"
      },
      "execution_count": 21,
      "outputs": []
    },
    {
      "cell_type": "code",
      "source": [
        "a1.head()"
      ],
      "metadata": {
        "colab": {
          "base_uri": "https://localhost:8080/",
          "height": 238
        },
        "id": "5JrJJFaT5n4b",
        "outputId": "fa28715e-332c-4a33-dec4-3a77d4029b47"
      },
      "execution_count": 22,
      "outputs": [
        {
          "output_type": "execute_result",
          "data": {
            "text/html": [
              "\n",
              "  <div id=\"df-cb59b8cb-6bd4-4b25-987b-951f94bc6776\">\n",
              "    <div class=\"colab-df-container\">\n",
              "      <div>\n",
              "<style scoped>\n",
              "    .dataframe tbody tr th:only-of-type {\n",
              "        vertical-align: middle;\n",
              "    }\n",
              "\n",
              "    .dataframe tbody tr th {\n",
              "        vertical-align: top;\n",
              "    }\n",
              "\n",
              "    .dataframe thead th {\n",
              "        text-align: right;\n",
              "    }\n",
              "</style>\n",
              "<table border=\"1\" class=\"dataframe\">\n",
              "  <thead>\n",
              "    <tr style=\"text-align: right;\">\n",
              "      <th></th>\n",
              "      <th></th>\n",
              "      <th>False</th>\n",
              "      <th>True</th>\n",
              "    </tr>\n",
              "    <tr>\n",
              "      <th>date</th>\n",
              "      <th>celeb</th>\n",
              "      <th></th>\n",
              "      <th></th>\n",
              "    </tr>\n",
              "  </thead>\n",
              "  <tbody>\n",
              "    <tr>\n",
              "      <th>2021-06-12</th>\n",
              "      <th>CJSL</th>\n",
              "      <td>1.0</td>\n",
              "      <td>3.0</td>\n",
              "    </tr>\n",
              "    <tr>\n",
              "      <th>2021-06-13</th>\n",
              "      <th>CJSL</th>\n",
              "      <td>75.0</td>\n",
              "      <td>29.0</td>\n",
              "    </tr>\n",
              "    <tr>\n",
              "      <th>2021-06-14</th>\n",
              "      <th>CJSL</th>\n",
              "      <td>25.0</td>\n",
              "      <td>6.0</td>\n",
              "    </tr>\n",
              "    <tr>\n",
              "      <th>2021-06-15</th>\n",
              "      <th>CJSL</th>\n",
              "      <td>20.0</td>\n",
              "      <td>9.0</td>\n",
              "    </tr>\n",
              "    <tr>\n",
              "      <th>2021-06-16</th>\n",
              "      <th>CJSL</th>\n",
              "      <td>36.0</td>\n",
              "      <td>13.0</td>\n",
              "    </tr>\n",
              "  </tbody>\n",
              "</table>\n",
              "</div>\n",
              "      <button class=\"colab-df-convert\" onclick=\"convertToInteractive('df-cb59b8cb-6bd4-4b25-987b-951f94bc6776')\"\n",
              "              title=\"Convert this dataframe to an interactive table.\"\n",
              "              style=\"display:none;\">\n",
              "        \n",
              "  <svg xmlns=\"http://www.w3.org/2000/svg\" height=\"24px\"viewBox=\"0 0 24 24\"\n",
              "       width=\"24px\">\n",
              "    <path d=\"M0 0h24v24H0V0z\" fill=\"none\"/>\n",
              "    <path d=\"M18.56 5.44l.94 2.06.94-2.06 2.06-.94-2.06-.94-.94-2.06-.94 2.06-2.06.94zm-11 1L8.5 8.5l.94-2.06 2.06-.94-2.06-.94L8.5 2.5l-.94 2.06-2.06.94zm10 10l.94 2.06.94-2.06 2.06-.94-2.06-.94-.94-2.06-.94 2.06-2.06.94z\"/><path d=\"M17.41 7.96l-1.37-1.37c-.4-.4-.92-.59-1.43-.59-.52 0-1.04.2-1.43.59L10.3 9.45l-7.72 7.72c-.78.78-.78 2.05 0 2.83L4 21.41c.39.39.9.59 1.41.59.51 0 1.02-.2 1.41-.59l7.78-7.78 2.81-2.81c.8-.78.8-2.07 0-2.86zM5.41 20L4 18.59l7.72-7.72 1.47 1.35L5.41 20z\"/>\n",
              "  </svg>\n",
              "      </button>\n",
              "      \n",
              "  <style>\n",
              "    .colab-df-container {\n",
              "      display:flex;\n",
              "      flex-wrap:wrap;\n",
              "      gap: 12px;\n",
              "    }\n",
              "\n",
              "    .colab-df-convert {\n",
              "      background-color: #E8F0FE;\n",
              "      border: none;\n",
              "      border-radius: 50%;\n",
              "      cursor: pointer;\n",
              "      display: none;\n",
              "      fill: #1967D2;\n",
              "      height: 32px;\n",
              "      padding: 0 0 0 0;\n",
              "      width: 32px;\n",
              "    }\n",
              "\n",
              "    .colab-df-convert:hover {\n",
              "      background-color: #E2EBFA;\n",
              "      box-shadow: 0px 1px 2px rgba(60, 64, 67, 0.3), 0px 1px 3px 1px rgba(60, 64, 67, 0.15);\n",
              "      fill: #174EA6;\n",
              "    }\n",
              "\n",
              "    [theme=dark] .colab-df-convert {\n",
              "      background-color: #3B4455;\n",
              "      fill: #D2E3FC;\n",
              "    }\n",
              "\n",
              "    [theme=dark] .colab-df-convert:hover {\n",
              "      background-color: #434B5C;\n",
              "      box-shadow: 0px 1px 3px 1px rgba(0, 0, 0, 0.15);\n",
              "      filter: drop-shadow(0px 1px 2px rgba(0, 0, 0, 0.3));\n",
              "      fill: #FFFFFF;\n",
              "    }\n",
              "  </style>\n",
              "\n",
              "      <script>\n",
              "        const buttonEl =\n",
              "          document.querySelector('#df-cb59b8cb-6bd4-4b25-987b-951f94bc6776 button.colab-df-convert');\n",
              "        buttonEl.style.display =\n",
              "          google.colab.kernel.accessAllowed ? 'block' : 'none';\n",
              "\n",
              "        async function convertToInteractive(key) {\n",
              "          const element = document.querySelector('#df-cb59b8cb-6bd4-4b25-987b-951f94bc6776');\n",
              "          const dataTable =\n",
              "            await google.colab.kernel.invokeFunction('convertToInteractive',\n",
              "                                                     [key], {});\n",
              "          if (!dataTable) return;\n",
              "\n",
              "          const docLinkHtml = 'Like what you see? Visit the ' +\n",
              "            '<a target=\"_blank\" href=https://colab.research.google.com/notebooks/data_table.ipynb>data table notebook</a>'\n",
              "            + ' to learn more about interactive tables.';\n",
              "          element.innerHTML = '';\n",
              "          dataTable['output_type'] = 'display_data';\n",
              "          await google.colab.output.renderOutput(dataTable, element);\n",
              "          const docLink = document.createElement('div');\n",
              "          docLink.innerHTML = docLinkHtml;\n",
              "          element.appendChild(docLink);\n",
              "        }\n",
              "      </script>\n",
              "    </div>\n",
              "  </div>\n",
              "  "
            ],
            "text/plain": [
              "                  False  True \n",
              "date       celeb              \n",
              "2021-06-12 CJSL     1.0    3.0\n",
              "2021-06-13 CJSL    75.0   29.0\n",
              "2021-06-14 CJSL    25.0    6.0\n",
              "2021-06-15 CJSL    20.0    9.0\n",
              "2021-06-16 CJSL    36.0   13.0"
            ]
          },
          "metadata": {},
          "execution_count": 22
        }
      ]
    },
    {
      "cell_type": "code",
      "source": [
        "a1.columns"
      ],
      "metadata": {
        "colab": {
          "base_uri": "https://localhost:8080/"
        },
        "id": "pB7IpdMq63FU",
        "outputId": "bc446538-cf17-491d-f7c7-d958f52b21c3"
      },
      "execution_count": 23,
      "outputs": [
        {
          "output_type": "execute_result",
          "data": {
            "text/plain": [
              "Index([False, True], dtype='object')"
            ]
          },
          "metadata": {},
          "execution_count": 23
        }
      ]
    },
    {
      "cell_type": "code",
      "source": [
        "a1.rename({False:'fan_cmt', True:'celeb_cmt'}, axis=1, inplace=True)"
      ],
      "metadata": {
        "id": "g-1sCO0K7FkT"
      },
      "execution_count": 24,
      "outputs": []
    },
    {
      "cell_type": "code",
      "source": [
        "a1.reset_index(inplace=True)"
      ],
      "metadata": {
        "id": "9E1uGLkN7bq8"
      },
      "execution_count": 25,
      "outputs": []
    },
    {
      "cell_type": "code",
      "source": [
        "data = a1[['fan_cmt', 'celeb_cmt']].transpose()"
      ],
      "metadata": {
        "id": "zWJptY4w8JXb"
      },
      "execution_count": 26,
      "outputs": []
    },
    {
      "cell_type": "code",
      "source": [
        "data"
      ],
      "metadata": {
        "colab": {
          "base_uri": "https://localhost:8080/",
          "height": 205
        },
        "id": "IwngcJ6VB5Vr",
        "outputId": "33fae7f2-c8b9-494a-e59b-6781ce3ae42d"
      },
      "execution_count": 27,
      "outputs": [
        {
          "output_type": "execute_result",
          "data": {
            "text/html": [
              "\n",
              "  <div id=\"df-c83e39ec-cd8d-4a17-bb76-d585e62f0d3f\">\n",
              "    <div class=\"colab-df-container\">\n",
              "      <div>\n",
              "<style scoped>\n",
              "    .dataframe tbody tr th:only-of-type {\n",
              "        vertical-align: middle;\n",
              "    }\n",
              "\n",
              "    .dataframe tbody tr th {\n",
              "        vertical-align: top;\n",
              "    }\n",
              "\n",
              "    .dataframe thead th {\n",
              "        text-align: right;\n",
              "    }\n",
              "</style>\n",
              "<table border=\"1\" class=\"dataframe\">\n",
              "  <thead>\n",
              "    <tr style=\"text-align: right;\">\n",
              "      <th></th>\n",
              "      <th>0</th>\n",
              "      <th>1</th>\n",
              "      <th>2</th>\n",
              "      <th>3</th>\n",
              "      <th>4</th>\n",
              "      <th>5</th>\n",
              "      <th>6</th>\n",
              "      <th>7</th>\n",
              "      <th>8</th>\n",
              "      <th>9</th>\n",
              "      <th>10</th>\n",
              "      <th>11</th>\n",
              "      <th>12</th>\n",
              "      <th>13</th>\n",
              "      <th>14</th>\n",
              "      <th>15</th>\n",
              "      <th>16</th>\n",
              "      <th>17</th>\n",
              "      <th>18</th>\n",
              "      <th>19</th>\n",
              "      <th>20</th>\n",
              "      <th>21</th>\n",
              "      <th>22</th>\n",
              "      <th>23</th>\n",
              "      <th>24</th>\n",
              "      <th>25</th>\n",
              "      <th>26</th>\n",
              "      <th>27</th>\n",
              "      <th>28</th>\n",
              "      <th>29</th>\n",
              "      <th>30</th>\n",
              "      <th>31</th>\n",
              "      <th>32</th>\n",
              "      <th>33</th>\n",
              "      <th>34</th>\n",
              "      <th>35</th>\n",
              "      <th>36</th>\n",
              "      <th>37</th>\n",
              "      <th>38</th>\n",
              "      <th>39</th>\n",
              "      <th>...</th>\n",
              "      <th>263</th>\n",
              "      <th>264</th>\n",
              "      <th>265</th>\n",
              "      <th>266</th>\n",
              "      <th>267</th>\n",
              "      <th>268</th>\n",
              "      <th>269</th>\n",
              "      <th>270</th>\n",
              "      <th>271</th>\n",
              "      <th>272</th>\n",
              "      <th>273</th>\n",
              "      <th>274</th>\n",
              "      <th>275</th>\n",
              "      <th>276</th>\n",
              "      <th>277</th>\n",
              "      <th>278</th>\n",
              "      <th>279</th>\n",
              "      <th>280</th>\n",
              "      <th>281</th>\n",
              "      <th>282</th>\n",
              "      <th>283</th>\n",
              "      <th>284</th>\n",
              "      <th>285</th>\n",
              "      <th>286</th>\n",
              "      <th>287</th>\n",
              "      <th>288</th>\n",
              "      <th>289</th>\n",
              "      <th>290</th>\n",
              "      <th>291</th>\n",
              "      <th>292</th>\n",
              "      <th>293</th>\n",
              "      <th>294</th>\n",
              "      <th>295</th>\n",
              "      <th>296</th>\n",
              "      <th>297</th>\n",
              "      <th>298</th>\n",
              "      <th>299</th>\n",
              "      <th>300</th>\n",
              "      <th>301</th>\n",
              "      <th>302</th>\n",
              "    </tr>\n",
              "  </thead>\n",
              "  <tbody>\n",
              "    <tr>\n",
              "      <th>fan_cmt</th>\n",
              "      <td>1.0</td>\n",
              "      <td>75.0</td>\n",
              "      <td>25.0</td>\n",
              "      <td>20.0</td>\n",
              "      <td>36.0</td>\n",
              "      <td>34.0</td>\n",
              "      <td>19.0</td>\n",
              "      <td>25.0</td>\n",
              "      <td>16.0</td>\n",
              "      <td>30.0</td>\n",
              "      <td>26.0</td>\n",
              "      <td>24.0</td>\n",
              "      <td>10.0</td>\n",
              "      <td>51.0</td>\n",
              "      <td>28.0</td>\n",
              "      <td>20.0</td>\n",
              "      <td>35.0</td>\n",
              "      <td>12.0</td>\n",
              "      <td>19.0</td>\n",
              "      <td>9.0</td>\n",
              "      <td>28.0</td>\n",
              "      <td>7.0</td>\n",
              "      <td>5.0</td>\n",
              "      <td>18.0</td>\n",
              "      <td>23.0</td>\n",
              "      <td>13.0</td>\n",
              "      <td>26.0</td>\n",
              "      <td>54.0</td>\n",
              "      <td>86.0</td>\n",
              "      <td>18.0</td>\n",
              "      <td>9.0</td>\n",
              "      <td>83.0</td>\n",
              "      <td>4.0</td>\n",
              "      <td>33.0</td>\n",
              "      <td>25.0</td>\n",
              "      <td>6.0</td>\n",
              "      <td>28.0</td>\n",
              "      <td>2.0</td>\n",
              "      <td>81.0</td>\n",
              "      <td>30.0</td>\n",
              "      <td>...</td>\n",
              "      <td>1.0</td>\n",
              "      <td>33.0</td>\n",
              "      <td>17.0</td>\n",
              "      <td>42.0</td>\n",
              "      <td>5.0</td>\n",
              "      <td>2.0</td>\n",
              "      <td>5.0</td>\n",
              "      <td>5.0</td>\n",
              "      <td>27.0</td>\n",
              "      <td>21.0</td>\n",
              "      <td>33.0</td>\n",
              "      <td>3.0</td>\n",
              "      <td>3.0</td>\n",
              "      <td>1.0</td>\n",
              "      <td>1.0</td>\n",
              "      <td>34.0</td>\n",
              "      <td>4.0</td>\n",
              "      <td>98.0</td>\n",
              "      <td>22.0</td>\n",
              "      <td>8.0</td>\n",
              "      <td>3.0</td>\n",
              "      <td>6.0</td>\n",
              "      <td>0.0</td>\n",
              "      <td>36.0</td>\n",
              "      <td>16.0</td>\n",
              "      <td>92.0</td>\n",
              "      <td>9.0</td>\n",
              "      <td>1.0</td>\n",
              "      <td>3.0</td>\n",
              "      <td>3.0</td>\n",
              "      <td>3.0</td>\n",
              "      <td>23.0</td>\n",
              "      <td>12.0</td>\n",
              "      <td>33.0</td>\n",
              "      <td>13.0</td>\n",
              "      <td>1.0</td>\n",
              "      <td>5.0</td>\n",
              "      <td>36.0</td>\n",
              "      <td>11.0</td>\n",
              "      <td>167.0</td>\n",
              "    </tr>\n",
              "    <tr>\n",
              "      <th>celeb_cmt</th>\n",
              "      <td>3.0</td>\n",
              "      <td>29.0</td>\n",
              "      <td>6.0</td>\n",
              "      <td>9.0</td>\n",
              "      <td>13.0</td>\n",
              "      <td>7.0</td>\n",
              "      <td>7.0</td>\n",
              "      <td>7.0</td>\n",
              "      <td>5.0</td>\n",
              "      <td>7.0</td>\n",
              "      <td>14.0</td>\n",
              "      <td>8.0</td>\n",
              "      <td>5.0</td>\n",
              "      <td>21.0</td>\n",
              "      <td>12.0</td>\n",
              "      <td>12.0</td>\n",
              "      <td>11.0</td>\n",
              "      <td>6.0</td>\n",
              "      <td>11.0</td>\n",
              "      <td>5.0</td>\n",
              "      <td>13.0</td>\n",
              "      <td>3.0</td>\n",
              "      <td>2.0</td>\n",
              "      <td>6.0</td>\n",
              "      <td>7.0</td>\n",
              "      <td>12.0</td>\n",
              "      <td>8.0</td>\n",
              "      <td>9.0</td>\n",
              "      <td>25.0</td>\n",
              "      <td>4.0</td>\n",
              "      <td>6.0</td>\n",
              "      <td>42.0</td>\n",
              "      <td>0.0</td>\n",
              "      <td>17.0</td>\n",
              "      <td>13.0</td>\n",
              "      <td>3.0</td>\n",
              "      <td>12.0</td>\n",
              "      <td>2.0</td>\n",
              "      <td>17.0</td>\n",
              "      <td>4.0</td>\n",
              "      <td>...</td>\n",
              "      <td>2.0</td>\n",
              "      <td>3.0</td>\n",
              "      <td>9.0</td>\n",
              "      <td>23.0</td>\n",
              "      <td>1.0</td>\n",
              "      <td>3.0</td>\n",
              "      <td>1.0</td>\n",
              "      <td>4.0</td>\n",
              "      <td>2.0</td>\n",
              "      <td>2.0</td>\n",
              "      <td>22.0</td>\n",
              "      <td>1.0</td>\n",
              "      <td>1.0</td>\n",
              "      <td>0.0</td>\n",
              "      <td>0.0</td>\n",
              "      <td>0.0</td>\n",
              "      <td>0.0</td>\n",
              "      <td>60.0</td>\n",
              "      <td>9.0</td>\n",
              "      <td>5.0</td>\n",
              "      <td>1.0</td>\n",
              "      <td>2.0</td>\n",
              "      <td>2.0</td>\n",
              "      <td>0.0</td>\n",
              "      <td>3.0</td>\n",
              "      <td>53.0</td>\n",
              "      <td>1.0</td>\n",
              "      <td>1.0</td>\n",
              "      <td>1.0</td>\n",
              "      <td>0.0</td>\n",
              "      <td>0.0</td>\n",
              "      <td>0.0</td>\n",
              "      <td>6.0</td>\n",
              "      <td>10.0</td>\n",
              "      <td>6.0</td>\n",
              "      <td>0.0</td>\n",
              "      <td>1.0</td>\n",
              "      <td>9.0</td>\n",
              "      <td>5.0</td>\n",
              "      <td>101.0</td>\n",
              "    </tr>\n",
              "  </tbody>\n",
              "</table>\n",
              "<p>2 rows × 303 columns</p>\n",
              "</div>\n",
              "      <button class=\"colab-df-convert\" onclick=\"convertToInteractive('df-c83e39ec-cd8d-4a17-bb76-d585e62f0d3f')\"\n",
              "              title=\"Convert this dataframe to an interactive table.\"\n",
              "              style=\"display:none;\">\n",
              "        \n",
              "  <svg xmlns=\"http://www.w3.org/2000/svg\" height=\"24px\"viewBox=\"0 0 24 24\"\n",
              "       width=\"24px\">\n",
              "    <path d=\"M0 0h24v24H0V0z\" fill=\"none\"/>\n",
              "    <path d=\"M18.56 5.44l.94 2.06.94-2.06 2.06-.94-2.06-.94-.94-2.06-.94 2.06-2.06.94zm-11 1L8.5 8.5l.94-2.06 2.06-.94-2.06-.94L8.5 2.5l-.94 2.06-2.06.94zm10 10l.94 2.06.94-2.06 2.06-.94-2.06-.94-.94-2.06-.94 2.06-2.06.94z\"/><path d=\"M17.41 7.96l-1.37-1.37c-.4-.4-.92-.59-1.43-.59-.52 0-1.04.2-1.43.59L10.3 9.45l-7.72 7.72c-.78.78-.78 2.05 0 2.83L4 21.41c.39.39.9.59 1.41.59.51 0 1.02-.2 1.41-.59l7.78-7.78 2.81-2.81c.8-.78.8-2.07 0-2.86zM5.41 20L4 18.59l7.72-7.72 1.47 1.35L5.41 20z\"/>\n",
              "  </svg>\n",
              "      </button>\n",
              "      \n",
              "  <style>\n",
              "    .colab-df-container {\n",
              "      display:flex;\n",
              "      flex-wrap:wrap;\n",
              "      gap: 12px;\n",
              "    }\n",
              "\n",
              "    .colab-df-convert {\n",
              "      background-color: #E8F0FE;\n",
              "      border: none;\n",
              "      border-radius: 50%;\n",
              "      cursor: pointer;\n",
              "      display: none;\n",
              "      fill: #1967D2;\n",
              "      height: 32px;\n",
              "      padding: 0 0 0 0;\n",
              "      width: 32px;\n",
              "    }\n",
              "\n",
              "    .colab-df-convert:hover {\n",
              "      background-color: #E2EBFA;\n",
              "      box-shadow: 0px 1px 2px rgba(60, 64, 67, 0.3), 0px 1px 3px 1px rgba(60, 64, 67, 0.15);\n",
              "      fill: #174EA6;\n",
              "    }\n",
              "\n",
              "    [theme=dark] .colab-df-convert {\n",
              "      background-color: #3B4455;\n",
              "      fill: #D2E3FC;\n",
              "    }\n",
              "\n",
              "    [theme=dark] .colab-df-convert:hover {\n",
              "      background-color: #434B5C;\n",
              "      box-shadow: 0px 1px 3px 1px rgba(0, 0, 0, 0.15);\n",
              "      filter: drop-shadow(0px 1px 2px rgba(0, 0, 0, 0.3));\n",
              "      fill: #FFFFFF;\n",
              "    }\n",
              "  </style>\n",
              "\n",
              "      <script>\n",
              "        const buttonEl =\n",
              "          document.querySelector('#df-c83e39ec-cd8d-4a17-bb76-d585e62f0d3f button.colab-df-convert');\n",
              "        buttonEl.style.display =\n",
              "          google.colab.kernel.accessAllowed ? 'block' : 'none';\n",
              "\n",
              "        async function convertToInteractive(key) {\n",
              "          const element = document.querySelector('#df-c83e39ec-cd8d-4a17-bb76-d585e62f0d3f');\n",
              "          const dataTable =\n",
              "            await google.colab.kernel.invokeFunction('convertToInteractive',\n",
              "                                                     [key], {});\n",
              "          if (!dataTable) return;\n",
              "\n",
              "          const docLinkHtml = 'Like what you see? Visit the ' +\n",
              "            '<a target=\"_blank\" href=https://colab.research.google.com/notebooks/data_table.ipynb>data table notebook</a>'\n",
              "            + ' to learn more about interactive tables.';\n",
              "          element.innerHTML = '';\n",
              "          dataTable['output_type'] = 'display_data';\n",
              "          await google.colab.output.renderOutput(dataTable, element);\n",
              "          const docLink = document.createElement('div');\n",
              "          docLink.innerHTML = docLinkHtml;\n",
              "          element.appendChild(docLink);\n",
              "        }\n",
              "      </script>\n",
              "    </div>\n",
              "  </div>\n",
              "  "
            ],
            "text/plain": [
              "           0     1     2     3     4     5    ...   297  298  299   300   301    302\n",
              "fan_cmt    1.0  75.0  25.0  20.0  36.0  34.0  ...  13.0  1.0  5.0  36.0  11.0  167.0\n",
              "celeb_cmt  3.0  29.0   6.0   9.0  13.0   7.0  ...   6.0  0.0  1.0   9.0   5.0  101.0\n",
              "\n",
              "[2 rows x 303 columns]"
            ]
          },
          "metadata": {},
          "execution_count": 27
        }
      ]
    },
    {
      "cell_type": "code",
      "source": [
        "#VAYA가 포함된 데이터의 회귀직선이 설명력이 많이 떨어져 제거하고 해봄\n",
        "df_new = df[df.celeb!='VAYA']"
      ],
      "metadata": {
        "id": "piu_Jr85GmNZ"
      },
      "execution_count": 28,
      "outputs": []
    },
    {
      "cell_type": "code",
      "source": [
        "#\n",
        "b = pd.DataFrame(df_new.groupby(['date', 'celeb', 'code'])['comments'].count())\n",
        "b1 = b.reset_index()\n",
        "b1 = pd.DataFrame(b1.groupby(['date','celeb', b1.celeb==b1.code])['comments'].sum())\n",
        "#각 날짜, 대화방 별로 False(팬 대화), True(셀럽 대화) 열 추가\n",
        "b1 = b1.unstack().fillna(0)\n",
        "#Multi Index 컬럼을 Single Index컬럼으로 변환\n",
        "b1.columns = b1.columns.droplevel(0)\n",
        "b1.rename({False:'fan_cmt', True:'celeb_cmt'}, axis=1, inplace=True)\n",
        "b1.reset_index(inplace=True)"
      ],
      "metadata": {
        "id": "0CzMfNuQG6WK"
      },
      "execution_count": 29,
      "outputs": []
    },
    {
      "cell_type": "code",
      "source": [
        "b1.describe()"
      ],
      "metadata": {
        "colab": {
          "base_uri": "https://localhost:8080/",
          "height": 300
        },
        "id": "vd2TgKF_hhmQ",
        "outputId": "72243750-e84e-42fa-ef3f-5774c879df48"
      },
      "execution_count": 424,
      "outputs": [
        {
          "output_type": "execute_result",
          "data": {
            "text/html": [
              "\n",
              "  <div id=\"df-fb9aacd2-e8c7-40f2-ae6d-474a30704c72\">\n",
              "    <div class=\"colab-df-container\">\n",
              "      <div>\n",
              "<style scoped>\n",
              "    .dataframe tbody tr th:only-of-type {\n",
              "        vertical-align: middle;\n",
              "    }\n",
              "\n",
              "    .dataframe tbody tr th {\n",
              "        vertical-align: top;\n",
              "    }\n",
              "\n",
              "    .dataframe thead th {\n",
              "        text-align: right;\n",
              "    }\n",
              "</style>\n",
              "<table border=\"1\" class=\"dataframe\">\n",
              "  <thead>\n",
              "    <tr style=\"text-align: right;\">\n",
              "      <th></th>\n",
              "      <th>fan_cmt</th>\n",
              "      <th>celeb_cmt</th>\n",
              "      <th>log_fan_cmt</th>\n",
              "      <th>log_celeb_cmt</th>\n",
              "    </tr>\n",
              "  </thead>\n",
              "  <tbody>\n",
              "    <tr>\n",
              "      <th>count</th>\n",
              "      <td>264.000000</td>\n",
              "      <td>264.000000</td>\n",
              "      <td>264.000000</td>\n",
              "      <td>264.000000</td>\n",
              "    </tr>\n",
              "    <tr>\n",
              "      <th>mean</th>\n",
              "      <td>18.068182</td>\n",
              "      <td>7.590909</td>\n",
              "      <td>2.363986</td>\n",
              "      <td>1.673552</td>\n",
              "    </tr>\n",
              "    <tr>\n",
              "      <th>std</th>\n",
              "      <td>22.111089</td>\n",
              "      <td>10.309252</td>\n",
              "      <td>1.130151</td>\n",
              "      <td>0.988660</td>\n",
              "    </tr>\n",
              "    <tr>\n",
              "      <th>min</th>\n",
              "      <td>0.000000</td>\n",
              "      <td>0.000000</td>\n",
              "      <td>0.000000</td>\n",
              "      <td>0.000000</td>\n",
              "    </tr>\n",
              "    <tr>\n",
              "      <th>25%</th>\n",
              "      <td>3.000000</td>\n",
              "      <td>2.000000</td>\n",
              "      <td>1.386294</td>\n",
              "      <td>1.098612</td>\n",
              "    </tr>\n",
              "    <tr>\n",
              "      <th>50%</th>\n",
              "      <td>10.000000</td>\n",
              "      <td>5.000000</td>\n",
              "      <td>2.397895</td>\n",
              "      <td>1.791759</td>\n",
              "    </tr>\n",
              "    <tr>\n",
              "      <th>75%</th>\n",
              "      <td>26.000000</td>\n",
              "      <td>9.000000</td>\n",
              "      <td>3.295837</td>\n",
              "      <td>2.302585</td>\n",
              "    </tr>\n",
              "    <tr>\n",
              "      <th>max</th>\n",
              "      <td>167.000000</td>\n",
              "      <td>101.000000</td>\n",
              "      <td>5.123964</td>\n",
              "      <td>4.624973</td>\n",
              "    </tr>\n",
              "  </tbody>\n",
              "</table>\n",
              "</div>\n",
              "      <button class=\"colab-df-convert\" onclick=\"convertToInteractive('df-fb9aacd2-e8c7-40f2-ae6d-474a30704c72')\"\n",
              "              title=\"Convert this dataframe to an interactive table.\"\n",
              "              style=\"display:none;\">\n",
              "        \n",
              "  <svg xmlns=\"http://www.w3.org/2000/svg\" height=\"24px\"viewBox=\"0 0 24 24\"\n",
              "       width=\"24px\">\n",
              "    <path d=\"M0 0h24v24H0V0z\" fill=\"none\"/>\n",
              "    <path d=\"M18.56 5.44l.94 2.06.94-2.06 2.06-.94-2.06-.94-.94-2.06-.94 2.06-2.06.94zm-11 1L8.5 8.5l.94-2.06 2.06-.94-2.06-.94L8.5 2.5l-.94 2.06-2.06.94zm10 10l.94 2.06.94-2.06 2.06-.94-2.06-.94-.94-2.06-.94 2.06-2.06.94z\"/><path d=\"M17.41 7.96l-1.37-1.37c-.4-.4-.92-.59-1.43-.59-.52 0-1.04.2-1.43.59L10.3 9.45l-7.72 7.72c-.78.78-.78 2.05 0 2.83L4 21.41c.39.39.9.59 1.41.59.51 0 1.02-.2 1.41-.59l7.78-7.78 2.81-2.81c.8-.78.8-2.07 0-2.86zM5.41 20L4 18.59l7.72-7.72 1.47 1.35L5.41 20z\"/>\n",
              "  </svg>\n",
              "      </button>\n",
              "      \n",
              "  <style>\n",
              "    .colab-df-container {\n",
              "      display:flex;\n",
              "      flex-wrap:wrap;\n",
              "      gap: 12px;\n",
              "    }\n",
              "\n",
              "    .colab-df-convert {\n",
              "      background-color: #E8F0FE;\n",
              "      border: none;\n",
              "      border-radius: 50%;\n",
              "      cursor: pointer;\n",
              "      display: none;\n",
              "      fill: #1967D2;\n",
              "      height: 32px;\n",
              "      padding: 0 0 0 0;\n",
              "      width: 32px;\n",
              "    }\n",
              "\n",
              "    .colab-df-convert:hover {\n",
              "      background-color: #E2EBFA;\n",
              "      box-shadow: 0px 1px 2px rgba(60, 64, 67, 0.3), 0px 1px 3px 1px rgba(60, 64, 67, 0.15);\n",
              "      fill: #174EA6;\n",
              "    }\n",
              "\n",
              "    [theme=dark] .colab-df-convert {\n",
              "      background-color: #3B4455;\n",
              "      fill: #D2E3FC;\n",
              "    }\n",
              "\n",
              "    [theme=dark] .colab-df-convert:hover {\n",
              "      background-color: #434B5C;\n",
              "      box-shadow: 0px 1px 3px 1px rgba(0, 0, 0, 0.15);\n",
              "      filter: drop-shadow(0px 1px 2px rgba(0, 0, 0, 0.3));\n",
              "      fill: #FFFFFF;\n",
              "    }\n",
              "  </style>\n",
              "\n",
              "      <script>\n",
              "        const buttonEl =\n",
              "          document.querySelector('#df-fb9aacd2-e8c7-40f2-ae6d-474a30704c72 button.colab-df-convert');\n",
              "        buttonEl.style.display =\n",
              "          google.colab.kernel.accessAllowed ? 'block' : 'none';\n",
              "\n",
              "        async function convertToInteractive(key) {\n",
              "          const element = document.querySelector('#df-fb9aacd2-e8c7-40f2-ae6d-474a30704c72');\n",
              "          const dataTable =\n",
              "            await google.colab.kernel.invokeFunction('convertToInteractive',\n",
              "                                                     [key], {});\n",
              "          if (!dataTable) return;\n",
              "\n",
              "          const docLinkHtml = 'Like what you see? Visit the ' +\n",
              "            '<a target=\"_blank\" href=https://colab.research.google.com/notebooks/data_table.ipynb>data table notebook</a>'\n",
              "            + ' to learn more about interactive tables.';\n",
              "          element.innerHTML = '';\n",
              "          dataTable['output_type'] = 'display_data';\n",
              "          await google.colab.output.renderOutput(dataTable, element);\n",
              "          const docLink = document.createElement('div');\n",
              "          docLink.innerHTML = docLinkHtml;\n",
              "          element.appendChild(docLink);\n",
              "        }\n",
              "      </script>\n",
              "    </div>\n",
              "  </div>\n",
              "  "
            ],
            "text/plain": [
              "          fan_cmt   celeb_cmt  log_fan_cmt  log_celeb_cmt\n",
              "count  264.000000  264.000000   264.000000     264.000000\n",
              "mean    18.068182    7.590909     2.363986       1.673552\n",
              "std     22.111089   10.309252     1.130151       0.988660\n",
              "min      0.000000    0.000000     0.000000       0.000000\n",
              "25%      3.000000    2.000000     1.386294       1.098612\n",
              "50%     10.000000    5.000000     2.397895       1.791759\n",
              "75%     26.000000    9.000000     3.295837       2.302585\n",
              "max    167.000000  101.000000     5.123964       4.624973"
            ]
          },
          "metadata": {},
          "execution_count": 424
        }
      ]
    },
    {
      "cell_type": "code",
      "source": [
        "sns.boxplot(b1.log_fan_cmt, color='yellow')"
      ],
      "metadata": {
        "colab": {
          "base_uri": "https://localhost:8080/",
          "height": 298
        },
        "id": "zP7hEhpIiWky",
        "outputId": "cd73e7d9-6408-4bd4-bd19-56ab54b6d943"
      },
      "execution_count": 426,
      "outputs": [
        {
          "output_type": "execute_result",
          "data": {
            "text/plain": [
              "<matplotlib.axes._subplots.AxesSubplot at 0x7f129ddf80d0>"
            ]
          },
          "metadata": {},
          "execution_count": 426
        },
        {
          "output_type": "display_data",
          "data": {
            "image/png": "[encoded data removed]",
            "text/plain": [
              "<Figure size 432x288 with 1 Axes>"
            ]
          },
          "metadata": {
            "needs_background": "light"
          }
        }
      ]
    },
    {
      "cell_type": "code",
      "source": [
        "sns.boxplot(b1.log_celeb_cmt, color='yellow')"
      ],
      "metadata": {
        "colab": {
          "base_uri": "https://localhost:8080/",
          "height": 298
        },
        "id": "uPy4-Dzmiso_",
        "outputId": "1176f0d7-ed13-4ced-fd70-13a5606ad935"
      },
      "execution_count": 427,
      "outputs": [
        {
          "output_type": "execute_result",
          "data": {
            "text/plain": [
              "<matplotlib.axes._subplots.AxesSubplot at 0x7f129e3b6f10>"
            ]
          },
          "metadata": {},
          "execution_count": 427
        },
        {
          "output_type": "display_data",
          "data": {
            "image/png": "[encoded data removed]",
            "text/plain": [
              "<Figure size 432x288 with 1 Axes>"
            ]
          },
          "metadata": {
            "needs_background": "light"
          }
        }
      ]
    },
    {
      "cell_type": "code",
      "source": [
        "#평균 +- 2표쥰편차 이상치 제거\n",
        "upper_outlier = b1.log_celeb_cmt.mean()+2*b1.log_celeb_cmt.std()\n",
        "lower_outlier = b1.log_celeb_cmt.mean()-2*b1.log_celeb_cmt.std()\n",
        "\n",
        "print(upper_outlier)\n",
        "print(lower_outlier)"
      ],
      "metadata": {
        "colab": {
          "base_uri": "https://localhost:8080/"
        },
        "id": "u7iEmE0Klkr-",
        "outputId": "11dd35bf-e721-42bf-f5f1-a7f4eb649960"
      },
      "execution_count": 447,
      "outputs": [
        {
          "output_type": "stream",
          "name": "stdout",
          "text": [
            "3.650871868194449\n",
            "-0.30376875940874926\n"
          ]
        }
      ]
    },
    {
      "cell_type": "code",
      "source": [
        "upper_outlier1 = b1.log_fan_cmt.mean()+1.5*b1.log_fan_cmt.std()\n",
        "lower_outlier1 = b1.log_fan_cmt.mean()-1.5*b1.log_fan_cmt.std()\n",
        "\n",
        "print(upper_outlier1)\n",
        "print(lower_outlier1)"
      ],
      "metadata": {
        "colab": {
          "base_uri": "https://localhost:8080/"
        },
        "id": "RJ3dHREBwkeP",
        "outputId": "96c130e9-29ee-4dfe-f6a3-fe2838ef419c"
      },
      "execution_count": 496,
      "outputs": [
        {
          "output_type": "stream",
          "name": "stdout",
          "text": [
            "4.059212041564906\n",
            "0.6687598718168077\n"
          ]
        }
      ]
    },
    {
      "cell_type": "code",
      "source": [
        "b1_2std=b1[(upper_outlier>b1.log_celeb_cmt)&(lower_outlier<b1.log_celeb_cmt)]"
      ],
      "metadata": {
        "id": "QqQV4a0foMso"
      },
      "execution_count": 455,
      "outputs": []
    },
    {
      "cell_type": "code",
      "source": [
        "b1_2std = b1[(upper_outlier1>b1.log_celeb_cmt)&(lower_outlier1<b1.log_celeb_cmt)]"
      ],
      "metadata": {
        "id": "xMpXkq2JwqSu"
      },
      "execution_count": 497,
      "outputs": []
    },
    {
      "cell_type": "markdown",
      "source": [
        "#로그변환\n",
        "- 독립변수와 종속변수 모두 데이터의 분포가 편향되어있음(right skewed)\n",
        "- np.log1p()를 이용하여 로그변환  \n",
        "값이 0인 경우가 있어 np.log() 대신 np.log1p()사용\n",
        "- \t$\\log{y_i}=α+β\\log{x_i}+εi$"
      ],
      "metadata": {
        "id": "jQF5IoQlz6ed"
      }
    },
    {
      "cell_type": "code",
      "source": [
        "import matplotlib.pyplot as plt\n",
        "import seaborn as sns\n",
        "import numpy as np"
      ],
      "metadata": {
        "id": "x8gnnmviQML7"
      },
      "execution_count": 35,
      "outputs": []
    },
    {
      "cell_type": "code",
      "source": [
        "#팬 대화 수 분포\n",
        "plt.figure(figsize=(8,8))\n",
        "plt.subplot(211)\n",
        "sns.distplot(b1['fan_cmt'])\n",
        "plt.title(\"<fan_comments distribution>\")\n",
        "plt.subplot(212)\n",
        "sns.distplot(b1_2std['log_fan_cmt'])\n",
        "plt.title(\"<preprocessing + log transformation fan_comments distribution>\")\n",
        "\n",
        "plt.subplots_adjust(left=0.125, bottom=0.1, right=0.9, top=0.9, wspace=0.2, hspace=0.3)\n",
        "\n",
        "plt.show()"
      ],
      "metadata": {
        "colab": {
          "base_uri": "https://localhost:8080/",
          "height": 540
        },
        "id": "yQmX_M-XzNH9",
        "outputId": "268b202b-346c-401e-993e-a2b15928e3f0"
      },
      "execution_count": 492,
      "outputs": [
        {
          "output_type": "display_data",
          "data": {
            "image/png": "[encoded data removed]",
            "text/plain": [
              "<Figure size 576x576 with 2 Axes>"
            ]
          },
          "metadata": {
            "needs_background": "light"
          }
        }
      ]
    },
    {
      "cell_type": "code",
      "source": [
        "#셀럽 대화 수 분포\n",
        "plt.figure(figsize=(8,8))\n",
        "plt.subplot(211)\n",
        "sns.distplot(b1['celeb_cmt'])\n",
        "plt.title(\"<celeb_comments distribution>\")\n",
        "plt.subplot(212)\n",
        "sns.distplot(b1_2std['log_celeb_cmt'])\n",
        "plt.title(\"<preprocessing + log transformation celeb_comments distribution>\")\n",
        "\n",
        "plt.subplots_adjust(left=0.125, bottom=0.1, right=0.9, top=0.9, wspace=0.2, hspace=0.3)\n",
        "\n",
        "plt.show()"
      ],
      "metadata": {
        "colab": {
          "base_uri": "https://localhost:8080/",
          "height": 540
        },
        "id": "eQrVp1qw1Lzt",
        "outputId": "ca83fd98-eb20-4605-ab80-ace84cf547da"
      },
      "execution_count": 495,
      "outputs": [
        {
          "output_type": "display_data",
          "data": {
            "image/png": "[encoded data removed]",
            "text/plain": [
              "<Figure size 576x576 with 2 Axes>"
            ]
          },
          "metadata": {
            "needs_background": "light"
          }
        }
      ]
    },
    {
      "cell_type": "code",
      "source": [
        "plt.figure(figsize=(8,8))\n",
        "plt.subplot(211)\n",
        "sns.distplot(b1['celeb_cmt'])\n",
        "plt.title(\"<celeb_comments distribution>\")\n",
        "plt.subplot(212)\n",
        "sns.distplot(b1_2std['log_celeb_cmt'])\n",
        "plt.title(\"<preprocessing + log transformation celeb_comments distribution>\")\n",
        "\n",
        "plt.subplots_adjust(left=0.125, bottom=0.1, right=0.9, top=0.9, wspace=0.2, hspace=0.3)\n",
        "\n",
        "plt.show()"
      ],
      "metadata": {
        "colab": {
          "base_uri": "https://localhost:8080/",
          "height": 540
        },
        "id": "gZCxj7wR2THe",
        "outputId": "81eee221-4cbd-4626-95b2-756841e7781b"
      },
      "execution_count": 499,
      "outputs": [
        {
          "output_type": "display_data",
          "data": {
            "image/png": "[encoded data removed]",
            "text/plain": [
              "<Figure size 576x576 with 2 Axes>"
            ]
          },
          "metadata": {
            "needs_background": "light"
          }
        }
      ]
    },
    {
      "cell_type": "markdown",
      "source": [
        "#회귀직선 시각화(VAYA 제거)"
      ],
      "metadata": {
        "id": "LECxpc7aG2Bi"
      }
    },
    {
      "cell_type": "code",
      "source": [
        "b1.plot(kind='scatter', x='celeb_cmt', y='fan_cmt')\n",
        "fit_weight = np.polyfit(b1['celeb_cmt'], b1['fan_cmt'], 1) # 'celeb_cmt' 컬럼을 x값으로, fan_cmt 컬럼을 y값으로 하여 1차식으로 피팅한다.\n",
        "trend_f = np.poly1d(fit_weight)\n",
        "r2 = r2_score(b1['fan_cmt'], trend_f(b1['celeb_cmt']))\n",
        "              \n",
        "plt.plot(b1['celeb_cmt'], trend_f(b1['celeb_cmt']),\"r-\")\n",
        "plt.title(\"y={:.6f}x+({:.6f}) \\nr2-score={:.6f}\".format(fit_weight[0], fit_weight[1], r2))\n",
        "plt.grid(True)\n",
        "plt.xlim([0, 40])\n",
        "plt.show()"
      ],
      "metadata": {
        "colab": {
          "base_uri": "https://localhost:8080/",
          "height": 311
        },
        "id": "IVdQnNnCHPaJ",
        "outputId": "26e01f0e-c25c-4b84-b78f-c549dd0c5c6f"
      },
      "execution_count": 43,
      "outputs": [
        {
          "output_type": "display_data",
          "data": {
            "image/png": "[encoded data removed]",
            "text/plain": [
              "<Figure size 432x288 with 1 Axes>"
            ]
          },
          "metadata": {
            "needs_background": "light"
          }
        }
      ]
    },
    {
      "cell_type": "markdown",
      "source": [
        "- 데이터의 분포가 극단에 치우쳐 있어서 회귀모델에 영향을 줄 수 있기 때문에 로그변환 시도 "
      ],
      "metadata": {
        "id": "9baxDDED1nXG"
      }
    },
    {
      "cell_type": "code",
      "source": [
        "import numpy as np\n",
        "b1.plot(kind='scatter', x='log_celeb_cmt', y='log_fan_cmt')\n",
        "fit_weight = np.polyfit(b1['log_celeb_cmt'], b1['log_fan_cmt'], 1) # 'log_celeb_cmt' 컬럼을 x값으로, log_fan_cmt 컬럼을 y값으로 하여 1차식으로 피팅한다.\n",
        "trend_f = np.poly1d(fit_weight)\n",
        "r2 = r2_score(b1['log_fan_cmt'], trend_f(b1['log_celeb_cmt']))\n",
        "              \n",
        "plt.plot(b1['log_celeb_cmt'], trend_f(b1['log_celeb_cmt']),\"r-\")\n",
        "plt.title(\"log(y) = {:.6f} * log(x)+({:.6f}) \\nr2-score={:.6f}\".format(fit_weight[0], fit_weight[1], r2))\n",
        "plt.grid(True)\n",
        "plt.show()"
      ],
      "metadata": {
        "colab": {
          "base_uri": "https://localhost:8080/",
          "height": 311
        },
        "id": "GzEq82yV8y6-",
        "outputId": "d371e4ad-a6e3-413d-a13a-1e48265e1cfd"
      },
      "execution_count": 422,
      "outputs": [
        {
          "output_type": "display_data",
          "data": {
            "image/png": "[encoded data removed]",
            "text/plain": [
              "<Figure size 432x288 with 1 Axes>"
            ]
          },
          "metadata": {
            "needs_background": "light"
          }
        }
      ]
    },
    {
      "cell_type": "code",
      "source": [
        "b1_2std.plot(kind='scatter', x='log_celeb_cmt', y='log_fan_cmt')\n",
        "fit_weight = np.polyfit(b1_2std['log_celeb_cmt'], b1_2std['log_fan_cmt'], 1) # 'log_celeb_cmt' 컬럼을 x값으로, log_fan_cmt 컬럼을 y값으로 하여 1차식으로 피팅한다.\n",
        "trend_f = np.poly1d(fit_weight)\n",
        "r2 = r2_score(b1_2std['log_fan_cmt'], trend_f(b1_2std['log_celeb_cmt']))\n",
        "              \n",
        "plt.plot(b1_2std['log_celeb_cmt'], trend_f(b1_2std['log_celeb_cmt']),\"r-\")\n",
        "plt.title(\"log(y) = {:.6f} * log(x)+({:.6f}) \\nr2-score={:.6f}\".format(fit_weight[0], fit_weight[1], r2))\n",
        "plt.grid(True)\n",
        "plt.show()"
      ],
      "metadata": {
        "colab": {
          "base_uri": "https://localhost:8080/",
          "height": 311
        },
        "id": "2gsGnFRgwWj9",
        "outputId": "f208082d-4bd9-43b3-96c8-15371e754c7e"
      },
      "execution_count": 464,
      "outputs": [
        {
          "output_type": "display_data",
          "data": {
            "image/png": "[encoded data removed]",
            "text/plain": [
              "<Figure size 432x288 with 1 Axes>"
            ]
          },
          "metadata": {
            "needs_background": "light"
          }
        }
      ]
    },
    {
      "cell_type": "code",
      "source": [
        "b1_2std.plot(kind='scatter', x='log_celeb_cmt', y='log_fan_cmt')\n",
        "fit_weight = np.polyfit(b1_2std['log_celeb_cmt'], b1_2std['log_fan_cmt'], 1) # 'log_celeb_cmt' 컬럼을 x값으로, log_fan_cmt 컬럼을 y값으로 하여 1차식으로 피팅한다.\n",
        "trend_f = np.poly1d(fit_weight)\n",
        "r2 = r2_score(b1_2std['log_fan_cmt'], trend_f(b1_2std['log_celeb_cmt']))\n",
        "              \n",
        "plt.plot(b1_2std['log_celeb_cmt'], trend_f(b1_2std['log_celeb_cmt']),\"r-\")\n",
        "plt.title(\"log(y) = {:.6f} * log(x)+({:.6f}) \\nr2-score={:.6f}\".format(fit_weight[0], fit_weight[1], r2))\n",
        "plt.grid(True)\n",
        "plt.show()"
      ],
      "metadata": {
        "colab": {
          "base_uri": "https://localhost:8080/",
          "height": 311
        },
        "id": "SpNwW9903PWc",
        "outputId": "b1fc36ef-b7e6-48b9-8219-5f854be03e41"
      },
      "execution_count": 530,
      "outputs": [
        {
          "output_type": "display_data",
          "data": {
            "image/png": "[encoded data removed]",
            "text/plain": [
              "<Figure size 432x288 with 1 Axes>"
            ]
          },
          "metadata": {
            "needs_background": "light"
          }
        }
      ]
    },
    {
      "cell_type": "markdown",
      "source": [
        "#ANOVA"
      ],
      "metadata": {
        "id": "qjqTjsPchz8W"
      }
    },
    {
      "cell_type": "code",
      "source": [
        "import statsmodels.api as sm\n",
        "import statsmodels.formula.api as smf\n",
        "from statsmodels.formula.api import ols"
      ],
      "metadata": {
        "id": "hZtJu74Ih2Bu"
      },
      "execution_count": 232,
      "outputs": []
    },
    {
      "cell_type": "code",
      "source": [
        "model = smf.ols(formula = 'log_fan_cmt ~ log_celeb_cmt', data = b1)\n",
        "result = model.fit()\n",
        "result.summary()"
      ],
      "metadata": {
        "colab": {
          "base_uri": "https://localhost:8080/",
          "height": 452
        },
        "id": "SJSAUeZN8In2",
        "outputId": "38a5716d-d9f0-431d-a99a-0addc32724a4"
      },
      "execution_count": 360,
      "outputs": [
        {
          "output_type": "execute_result",
          "data": {
            "text/html": [
              "<table class=\"simpletable\">\n",
              "<caption>OLS Regression Results</caption>\n",
              "<tr>\n",
              "  <th>Dep. Variable:</th>       <td>log_fan_cmt</td>   <th>  R-squared:         </th> <td>   0.665</td>\n",
              "</tr>\n",
              "<tr>\n",
              "  <th>Model:</th>                   <td>OLS</td>       <th>  Adj. R-squared:    </th> <td>   0.664</td>\n",
              "</tr>\n",
              "<tr>\n",
              "  <th>Method:</th>             <td>Least Squares</td>  <th>  F-statistic:       </th> <td>   520.0</td>\n",
              "</tr>\n",
              "<tr>\n",
              "  <th>Date:</th>             <td>Fri, 14 Jan 2022</td> <th>  Prob (F-statistic):</th> <td>3.73e-64</td>\n",
              "</tr>\n",
              "<tr>\n",
              "  <th>Time:</th>                 <td>18:54:05</td>     <th>  Log-Likelihood:    </th> <td> -262.06</td>\n",
              "</tr>\n",
              "<tr>\n",
              "  <th>No. Observations:</th>      <td>   264</td>      <th>  AIC:               </th> <td>   528.1</td>\n",
              "</tr>\n",
              "<tr>\n",
              "  <th>Df Residuals:</th>          <td>   262</td>      <th>  BIC:               </th> <td>   535.3</td>\n",
              "</tr>\n",
              "<tr>\n",
              "  <th>Df Model:</th>              <td>     1</td>      <th>                     </th>     <td> </td>   \n",
              "</tr>\n",
              "<tr>\n",
              "  <th>Covariance Type:</th>      <td>nonrobust</td>    <th>                     </th>     <td> </td>   \n",
              "</tr>\n",
              "</table>\n",
              "<table class=\"simpletable\">\n",
              "<tr>\n",
              "        <td></td>           <th>coef</th>     <th>std err</th>      <th>t</th>      <th>P>|t|</th>  <th>[0.025</th>    <th>0.975]</th>  \n",
              "</tr>\n",
              "<tr>\n",
              "  <th>Intercept</th>     <td>    0.8040</td> <td>    0.079</td> <td>   10.123</td> <td> 0.000</td> <td>    0.648</td> <td>    0.960</td>\n",
              "</tr>\n",
              "<tr>\n",
              "  <th>log_celeb_cmt</th> <td>    0.9321</td> <td>    0.041</td> <td>   22.802</td> <td> 0.000</td> <td>    0.852</td> <td>    1.013</td>\n",
              "</tr>\n",
              "</table>\n",
              "<table class=\"simpletable\">\n",
              "<tr>\n",
              "  <th>Omnibus:</th>       <td> 9.964</td> <th>  Durbin-Watson:     </th> <td>   2.010</td>\n",
              "</tr>\n",
              "<tr>\n",
              "  <th>Prob(Omnibus):</th> <td> 0.007</td> <th>  Jarque-Bera (JB):  </th> <td>  12.828</td>\n",
              "</tr>\n",
              "<tr>\n",
              "  <th>Skew:</th>          <td>-0.304</td> <th>  Prob(JB):          </th> <td> 0.00164</td>\n",
              "</tr>\n",
              "<tr>\n",
              "  <th>Kurtosis:</th>      <td> 3.893</td> <th>  Cond. No.          </th> <td>    4.62</td>\n",
              "</tr>\n",
              "</table><br/><br/>Warnings:<br/>[1] Standard Errors assume that the covariance matrix of the errors is correctly specified."
            ],
            "text/plain": [
              "<class 'statsmodels.iolib.summary.Summary'>\n",
              "\"\"\"\n",
              "                            OLS Regression Results                            \n",
              "==============================================================================\n",
              "Dep. Variable:            log_fan_cmt   R-squared:                       0.665\n",
              "Model:                            OLS   Adj. R-squared:                  0.664\n",
              "Method:                 Least Squares   F-statistic:                     520.0\n",
              "Date:                Fri, 14 Jan 2022   Prob (F-statistic):           3.73e-64\n",
              "Time:                        18:54:05   Log-Likelihood:                -262.06\n",
              "No. Observations:                 264   AIC:                             528.1\n",
              "Df Residuals:                     262   BIC:                             535.3\n",
              "Df Model:                           1                                         \n",
              "Covariance Type:            nonrobust                                         \n",
              "=================================================================================\n",
              "                    coef    std err          t      P>|t|      [0.025      0.975]\n",
              "---------------------------------------------------------------------------------\n",
              "Intercept         0.8040      0.079     10.123      0.000       0.648       0.960\n",
              "log_celeb_cmt     0.9321      0.041     22.802      0.000       0.852       1.013\n",
              "==============================================================================\n",
              "Omnibus:                        9.964   Durbin-Watson:                   2.010\n",
              "Prob(Omnibus):                  0.007   Jarque-Bera (JB):               12.828\n",
              "Skew:                          -0.304   Prob(JB):                      0.00164\n",
              "Kurtosis:                       3.893   Cond. No.                         4.62\n",
              "==============================================================================\n",
              "\n",
              "Warnings:\n",
              "[1] Standard Errors assume that the covariance matrix of the errors is correctly specified.\n",
              "\"\"\""
            ]
          },
          "metadata": {},
          "execution_count": 360
        }
      ]
    },
    {
      "cell_type": "markdown",
      "source": [
        "- $r^2$-score : 0.665 , 회귀선에의해 데이터 약 66.5% 설명됨\n",
        "\n",
        "- $H_0$: 회귀모형이 유의하지 않다  \n",
        "  $H_1$: 회귀모형이 유의하다.  \n",
        " 회귀모형의 F값이 520.0이고 유의확률(Pr>F)은 0.000으로 유의수준  0.05보다 작다. 통계적으로 유의한 모형  \n",
        "\n",
        "- 회귀식 절편의 t값이 10.123이고 유의확률(P>|t|)은 0.000으로 회귀모형의 절편값은 유의하고 값은 0.804  \n",
        "\n",
        "- 셀럽의 대화 수(x)의 t값이 22.802이고 유의확률유의확률(P>|t|)은 0.000으로 회귀모형의 계수는 유의하고 값은 0.9321  \n",
        "\n",
        "- $\\log{y_i}=0.9321\\log{x_i}+0.804$  \n",
        "셀럽의 대화(x)가 1% 증가할수록 팬의 대화가 0.9321% 증가\n",
        "  \n",
        "- $H_0$: 잔차들 사이에 자기상관관계가 없다.(독립이다)   \n",
        "  $H_1$: 잔차들 사이에 자기상관관계가 있다.  \n",
        "  Durbin-Watson값이 2.010으로 귀무가설을 기각할수 없다.\n",
        "  따라서 잔차들이 서로 독립적이라고 할 수 있다.\n",
        "  잔차들이 서로 독립이므로 회귀모형이 적합하다고 할 수 있다."
      ],
      "metadata": {
        "id": "rFuJc5upIdkJ"
      }
    },
    {
      "cell_type": "code",
      "source": [
        "model = smf.ols(formula = 'log_fan_cmt ~ log_celeb_cmt', data = b1_2std)\n",
        "result = model.fit()\n",
        "result.summary()"
      ],
      "metadata": {
        "colab": {
          "base_uri": "https://localhost:8080/",
          "height": 452
        },
        "id": "Melg42AGw4_X",
        "outputId": "80a779df-579b-46c2-ce13-97027ba36b5e"
      },
      "execution_count": 465,
      "outputs": [
        {
          "output_type": "execute_result",
          "data": {
            "text/html": [
              "<table class=\"simpletable\">\n",
              "<caption>OLS Regression Results</caption>\n",
              "<tr>\n",
              "  <th>Dep. Variable:</th>       <td>log_fan_cmt</td>   <th>  R-squared:         </th> <td>   0.620</td>\n",
              "</tr>\n",
              "<tr>\n",
              "  <th>Model:</th>                   <td>OLS</td>       <th>  Adj. R-squared:    </th> <td>   0.619</td>\n",
              "</tr>\n",
              "<tr>\n",
              "  <th>Method:</th>             <td>Least Squares</td>  <th>  F-statistic:       </th> <td>   374.3</td>\n",
              "</tr>\n",
              "<tr>\n",
              "  <th>Date:</th>             <td>Fri, 14 Jan 2022</td> <th>  Prob (F-statistic):</th> <td>4.54e-50</td>\n",
              "</tr>\n",
              "<tr>\n",
              "  <th>Time:</th>                 <td>22:44:36</td>     <th>  Log-Likelihood:    </th> <td> -231.36</td>\n",
              "</tr>\n",
              "<tr>\n",
              "  <th>No. Observations:</th>      <td>   231</td>      <th>  AIC:               </th> <td>   466.7</td>\n",
              "</tr>\n",
              "<tr>\n",
              "  <th>Df Residuals:</th>          <td>   229</td>      <th>  BIC:               </th> <td>   473.6</td>\n",
              "</tr>\n",
              "<tr>\n",
              "  <th>Df Model:</th>              <td>     1</td>      <th>                     </th>     <td> </td>   \n",
              "</tr>\n",
              "<tr>\n",
              "  <th>Covariance Type:</th>      <td>nonrobust</td>    <th>                     </th>     <td> </td>   \n",
              "</tr>\n",
              "</table>\n",
              "<table class=\"simpletable\">\n",
              "<tr>\n",
              "        <td></td>           <th>coef</th>     <th>std err</th>      <th>t</th>      <th>P>|t|</th>  <th>[0.025</th>    <th>0.975]</th>  \n",
              "</tr>\n",
              "<tr>\n",
              "  <th>Intercept</th>     <td>    0.5335</td> <td>    0.112</td> <td>    4.769</td> <td> 0.000</td> <td>    0.313</td> <td>    0.754</td>\n",
              "</tr>\n",
              "<tr>\n",
              "  <th>log_celeb_cmt</th> <td>    1.0534</td> <td>    0.054</td> <td>   19.346</td> <td> 0.000</td> <td>    0.946</td> <td>    1.161</td>\n",
              "</tr>\n",
              "</table>\n",
              "<table class=\"simpletable\">\n",
              "<tr>\n",
              "  <th>Omnibus:</th>       <td> 4.793</td> <th>  Durbin-Watson:     </th> <td>   2.050</td>\n",
              "</tr>\n",
              "<tr>\n",
              "  <th>Prob(Omnibus):</th> <td> 0.091</td> <th>  Jarque-Bera (JB):  </th> <td>   5.665</td>\n",
              "</tr>\n",
              "<tr>\n",
              "  <th>Skew:</th>          <td>-0.152</td> <th>  Prob(JB):          </th> <td>  0.0589</td>\n",
              "</tr>\n",
              "<tr>\n",
              "  <th>Kurtosis:</th>      <td> 3.705</td> <th>  Cond. No.          </th> <td>    6.37</td>\n",
              "</tr>\n",
              "</table><br/><br/>Warnings:<br/>[1] Standard Errors assume that the covariance matrix of the errors is correctly specified."
            ],
            "text/plain": [
              "<class 'statsmodels.iolib.summary.Summary'>\n",
              "\"\"\"\n",
              "                            OLS Regression Results                            \n",
              "==============================================================================\n",
              "Dep. Variable:            log_fan_cmt   R-squared:                       0.620\n",
              "Model:                            OLS   Adj. R-squared:                  0.619\n",
              "Method:                 Least Squares   F-statistic:                     374.3\n",
              "Date:                Fri, 14 Jan 2022   Prob (F-statistic):           4.54e-50\n",
              "Time:                        22:44:36   Log-Likelihood:                -231.36\n",
              "No. Observations:                 231   AIC:                             466.7\n",
              "Df Residuals:                     229   BIC:                             473.6\n",
              "Df Model:                           1                                         \n",
              "Covariance Type:            nonrobust                                         \n",
              "=================================================================================\n",
              "                    coef    std err          t      P>|t|      [0.025      0.975]\n",
              "---------------------------------------------------------------------------------\n",
              "Intercept         0.5335      0.112      4.769      0.000       0.313       0.754\n",
              "log_celeb_cmt     1.0534      0.054     19.346      0.000       0.946       1.161\n",
              "==============================================================================\n",
              "Omnibus:                        4.793   Durbin-Watson:                   2.050\n",
              "Prob(Omnibus):                  0.091   Jarque-Bera (JB):                5.665\n",
              "Skew:                          -0.152   Prob(JB):                       0.0589\n",
              "Kurtosis:                       3.705   Cond. No.                         6.37\n",
              "==============================================================================\n",
              "\n",
              "Warnings:\n",
              "[1] Standard Errors assume that the covariance matrix of the errors is correctly specified.\n",
              "\"\"\""
            ]
          },
          "metadata": {},
          "execution_count": 465
        }
      ]
    },
    {
      "cell_type": "markdown",
      "source": [
        "- $r^2$-score : 0.620 , 회귀선에의해 데이터 약 62.0% 설명됨\n",
        "\n",
        "- $H_0$: 회귀모형이 유의하지 않다  \n",
        "  $H_1$: 회귀모형이 유의하다.  \n",
        " 회귀모형의 F값이 374.3이고 유의확률(Pr>F)은 0.000으로 유의수준  0.05보다 작다. 통계적으로 유의한 모형  \n",
        "\n",
        "- 회귀식 절편의 t값이 10.123이고 유의확률(P>|t|)은 0.000으로 회귀모형의 절편값은 유의하고 값은 0.5335  \n",
        "\n",
        "- 셀럽의 대화 수(x)의 t값이 22.802이고 유의확률유의확률(P>|t|)은 0.000으로 회귀모형의 계수는 유의하고 값은 1.0534  \n",
        "\n",
        "- $\\log{y_i}=1.0534\\log{x_i}+0.5335$  \n",
        "셀럽의 대화(x)가 1% 증가할수록 팬의 대화가 1.0534% 증가\n",
        "  \n",
        "- $H_0$: 잔차들 사이에 자기상관관계가 없다.(독립이다)   \n",
        "  $H_1$: 잔차들 사이에 자기상관관계가 있다.  \n",
        "  Durbin-Watson값이 2.050으로 귀무가설을 기각할수 없다.\n",
        "  따라서 잔차들이 서로 독립적이라고 할 수 있다.\n",
        "  잔차들이 서로 독립이므로 회귀모형이 적합하다고 할 수 있다."
      ],
      "metadata": {
        "id": "kD2BbJCH2tns"
      }
    },
    {
      "cell_type": "markdown",
      "source": [
        "#잔차분석(log변환 - VAYA제거)"
      ],
      "metadata": {
        "id": "bL7vFK3tq6AN"
      }
    },
    {
      "cell_type": "code",
      "source": [
        "res = ols('log_fan_cmt ~ log_celeb_cmt', data = b1).fit()"
      ],
      "metadata": {
        "id": "pYzTrYqiq5jF"
      },
      "execution_count": 385,
      "outputs": []
    },
    {
      "cell_type": "code",
      "source": [
        "fitted = res.predict(b1)\n",
        "residual = b1['log_fan_cmt'] - fitted\n",
        "\n",
        "sns.regplot(fitted, residual, lowess=True, line_kws={'color':'red'})\n",
        "plt.plot([fitted.min(),fitted.max()], [0,0], '--', color='grey')\n",
        "plt.show()"
      ],
      "metadata": {
        "colab": {
          "base_uri": "https://localhost:8080/",
          "height": 265
        },
        "id": "CobBr8rDp-FW",
        "outputId": "497f8915-00d4-4b41-d75a-2830853c734a"
      },
      "execution_count": 388,
      "outputs": [
        {
          "output_type": "display_data",
          "data": {
            "image/png": "[encoded data removed]",
            "text/plain": [
              "<Figure size 432x288 with 1 Axes>"
            ]
          },
          "metadata": {
            "needs_background": "light"
          }
        }
      ]
    },
    {
      "cell_type": "markdown",
      "source": [
        "- 잔차의 추세선(빨간 선)이 예측값(회색 점선)과 크게 다르지 않으므로 회귀모형이 선형성을 만족"
      ],
      "metadata": {
        "id": "Pl3A5BGo3lq8"
      }
    },
    {
      "cell_type": "code",
      "source": [
        "import scipy.stats\n",
        "sr = scipy.stats.zscore(residual)\n",
        "(x,y),_ = scipy.stats.probplot(sr)\n",
        "sns.scatterplot(x, y)\n",
        "plt.plot([-2,2],[-2,2],'--', color='red')\n",
        "plt.xlim([-2,2])\n",
        "plt.ylim([-2,2])\n",
        "plt.show()"
      ],
      "metadata": {
        "colab": {
          "base_uri": "https://localhost:8080/",
          "height": 269
        },
        "id": "AFLRjOWUqTGF",
        "outputId": "79cfc5e2-7a2a-4392-ba26-5ad1f3798b8e"
      },
      "execution_count": 397,
      "outputs": [
        {
          "output_type": "display_data",
          "data": {
            "image/png": "[encoded data removed]",
            "text/plain": [
              "<Figure size 432x288 with 1 Axes>"
            ]
          },
          "metadata": {
            "needs_background": "light"
          }
        }
      ]
    },
    {
      "cell_type": "markdown",
      "source": [
        "- 실제 데이터(파란 점)가 대체적으로 Q-Q plot의 선 위에 존재하므로 정규성을 만족한다."
      ],
      "metadata": {
        "id": "a8wTTGPmMCx6"
      }
    },
    {
      "cell_type": "code",
      "source": [
        "import numpy as np\n",
        "sns.regplot(fitted, np.sqrt(np.abs(sr)), lowess=True,line_kws={'color':'red'})\n",
        "plt.xlim([1.6,3.2])\n",
        "plt.show()"
      ],
      "metadata": {
        "colab": {
          "base_uri": "https://localhost:8080/",
          "height": 269
        },
        "id": "NtkYXY1oxhsN",
        "outputId": "20c11937-6465-44a1-ca42-b146dd7361f1"
      },
      "execution_count": 476,
      "outputs": [
        {
          "output_type": "display_data",
          "data": {
            "image/png": "[encoded data removed]",
            "text/plain": [
              "<Figure size 432x288 with 1 Axes>"
            ]
          },
          "metadata": {
            "needs_background": "light"
          }
        }
      ]
    },
    {
      "cell_type": "markdown",
      "source": [
        "- 예측값(x축)에 따라 잔차(y)의 추세 변화선이 수평과 비슷하게 형성되므로 등분산성을 만족한다."
      ],
      "metadata": {
        "id": "srZw5MAk4BzX"
      }
    },
    {
      "cell_type": "code",
      "source": [
        "np.set_printoptions(suppress=True)\n",
        "influence = cookmodel.get_influence()\n",
        "cooks = influence.cooks_distance\n",
        "\n",
        "plt.scatter(b1.log_celeb_cmt,cooks[0])\n",
        "plt.show()"
      ],
      "metadata": {
        "colab": {
          "base_uri": "https://localhost:8080/",
          "height": 265
        },
        "id": "9XEObcffcytg",
        "outputId": "8ac69ea6-b7fa-4c07-8e8c-e3621bf5c5c9"
      },
      "execution_count": 412,
      "outputs": [
        {
          "output_type": "display_data",
          "data": {
            "image/png": "[encoded data removed]",
            "text/plain": [
              "<Figure size 432x288 with 1 Axes>"
            ]
          },
          "metadata": {
            "needs_background": "light"
          }
        }
      ]
    },
    {
      "cell_type": "code",
      "source": [
        "res = ols('log_fan_cmt ~ log_celeb_cmt', data = b1_2std).fit()"
      ],
      "metadata": {
        "id": "n4ok8oY6xW_1"
      },
      "execution_count": 466,
      "outputs": []
    },
    {
      "cell_type": "code",
      "source": [
        "import scipy.stats as stats"
      ],
      "metadata": {
        "id": "93k6PrYM_5Yb"
      },
      "execution_count": 502,
      "outputs": []
    },
    {
      "cell_type": "markdown",
      "source": [
        "#상관분석"
      ],
      "metadata": {
        "id": "3_Q_FY9WC9Wb"
      }
    },
    {
      "cell_type": "code",
      "source": [
        "stats.pearsonr(b1_2std['log_celeb_cmt'],b1_2std['log_fan_cmt'])"
      ],
      "metadata": {
        "colab": {
          "base_uri": "https://localhost:8080/"
        },
        "id": "GH8xoPWUACGD",
        "outputId": "48fd96e9-7417-4807-8ed0-86c24d602cc2"
      },
      "execution_count": 505,
      "outputs": [
        {
          "output_type": "execute_result",
          "data": {
            "text/plain": [
              "(0.7838446414677261, 4.4168765101298494e-49)"
            ]
          },
          "metadata": {},
          "execution_count": 505
        }
      ]
    },
    {
      "cell_type": "markdown",
      "source": [
        "- p-value < 0.05이므로 두 변수는 상관관계가 있다."
      ],
      "metadata": {
        "id": "cbr54pi5jkRr"
      }
    },
    {
      "cell_type": "code",
      "source": [
        "sns.heatmap(b1_2std[['log_celeb_cmt', 'log_fan_cmt']].corr(), annot=True, fmt='.2f',linewidths=.5, cmap='Pastel2')"
      ],
      "metadata": {
        "colab": {
          "base_uri": "https://localhost:8080/",
          "height": 288
        },
        "id": "un7ks9Z4BcO0",
        "outputId": "4f149c22-cbdf-4767-c76d-cae03414ee50"
      },
      "execution_count": 515,
      "outputs": [
        {
          "output_type": "execute_result",
          "data": {
            "text/plain": [
              "<matplotlib.axes._subplots.AxesSubplot at 0x7f129a1a55d0>"
            ]
          },
          "metadata": {},
          "execution_count": 515
        },
        {
          "output_type": "display_data",
          "data": {
            "image/png": "[encoded data removed]",
            "text/plain": [
              "<Figure size 432x288 with 2 Axes>"
            ]
          },
          "metadata": {
            "needs_background": "light"
          }
        }
      ]
    },
    {
      "cell_type": "markdown",
      "source": [
        "- pearson 상관계수 0.78로 '셀럽의 대화 수'와 '팬의 대화 수'는 매우 강한 양의 상관관계를 가진다."
      ],
      "metadata": {
        "id": "sPpb-H_hMjAx"
      }
    },
    {
      "cell_type": "markdown",
      "source": [
        ""
      ],
      "metadata": {
        "id": "nGyvr9wDWNMq"
      }
    },
    {
      "cell_type": "code",
      "source": [
        "df.label.value_counts()"
      ],
      "metadata": {
        "colab": {
          "base_uri": "https://localhost:8080/"
        },
        "id": "OwRk6zqPWfbw",
        "outputId": "85d14b14-379c-4864-d18d-cfcf183ff56c"
      },
      "execution_count": 519,
      "outputs": [
        {
          "output_type": "execute_result",
          "data": {
            "text/plain": [
              "1    8001\n",
              "2    2229\n",
              "0      67\n",
              "Name: label, dtype: int64"
            ]
          },
          "metadata": {},
          "execution_count": 519
        }
      ]
    },
    {
      "cell_type": "code",
      "source": [
        "df_new.label.value_counts()"
      ],
      "metadata": {
        "colab": {
          "base_uri": "https://localhost:8080/"
        },
        "id": "S1djJTHsWXko",
        "outputId": "c3085202-0acd-4a36-e907-a9d26aec490b"
      },
      "execution_count": 518,
      "outputs": [
        {
          "output_type": "execute_result",
          "data": {
            "text/plain": [
              "1    6650\n",
              "2     567\n",
              "0      39\n",
              "Name: label, dtype: int64"
            ]
          },
          "metadata": {},
          "execution_count": 518
        }
      ]
    }
  ]
}