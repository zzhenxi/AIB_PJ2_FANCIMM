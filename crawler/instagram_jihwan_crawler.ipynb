{
  "cells": [
    {
      "cell_type": "code",
      "execution_count": null,
      "id": "7e87faa8",
      "metadata": {
        "id": "7e87faa8"
      },
      "outputs": [],
      "source": [
        "import warnings\n",
        "warnings.filterwarnings('ignore')"
      ]
    },
    {
      "cell_type": "code",
      "execution_count": null,
      "id": "6856f960",
      "metadata": {
        "id": "6856f960"
      },
      "outputs": [],
      "source": [
        "from selenium import webdriver\n",
        "from bs4 import BeautifulSoup\n",
        "from tqdm import tqdm_notebook\n",
        "\n",
        "import time\n",
        "import pandas as pd\n",
        "import numpy as np"
      ]
    },
    {
      "cell_type": "code",
      "execution_count": null,
      "id": "02e5c140",
      "metadata": {
        "id": "02e5c140"
      },
      "outputs": [],
      "source": [
        "#Selenium으로 인스타홈페이지 접속\n",
        "driver_path = \"/Users/adg/Desktop/crawl/driver/chromedriver\"\n",
        "driver = webdriver.Chrome(driver_path)\n",
        "driver.get(\"http://instagram.com\")\n",
        "\n",
        "time.sleep(5)"
      ]
    },
    {
      "cell_type": "code",
      "execution_count": null,
      "id": "6ac44040",
      "metadata": {
        "id": "6ac44040"
      },
      "outputs": [],
      "source": [
        "#인스타 아이디 로그인\n",
        "id_input_temp, pwd_input_temp = tuple(driver.find_elements_by_css_selector('div.gr27e > div.EPjEi > form.HmktE > div > div.-MzZI'))\n",
        "\n",
        "id_input  = id_input_temp.find_element_by_css_selector('div > label')\n",
        "pwd_input = pwd_input_temp.find_element_by_css_selector('div > label')\n",
        "\n",
        "id_input.send_keys('aa_dgii')   # 인스타아이디 입력\n",
        "pwd_input.send_keys('***')       # 인스타비밀번호 입력\n",
        "\n",
        "pwd_input.submit()\n",
        "\n",
        "time.sleep(5)"
      ]
    },
    {
      "cell_type": "code",
      "execution_count": null,
      "id": "2af31a3f",
      "metadata": {
        "id": "2af31a3f"
      },
      "outputs": [],
      "source": [
        "# 셀럽아이디입력\n",
        "# 우왁굳, 괴물쥐123, 서새봄냥, 강지, 김블루, 오킹, 견자희, 김재원_, 앰비션_, berry0314\n",
        "# 머독, 미라지, 태준이, 개리형, 군림보, 실프_, 악어, Charming_Jo, 선바, 양띵\n",
        "celeb_list = ['instawakgood', 'ji_hwanzzang', 'bllomsebom', 'ggangg1115',\n",
        "             'komblue_37', 'oking1025', 'ruswkgml', 'kimjaewon1998',\n",
        "             'ambition921027', 'berry_is_blooming', 'angry_boy_man', 'baejungmin720',\n",
        "             'ma.vub.sa', '_gary_bro', 'rnsflaqh_', 'hidenoriz_',\n",
        "             'acau1197', 'jangwoo_jo', 'sunbakim', 'yd0821']\n",
        "\n",
        "find_id = driver.find_element_by_css_selector('#react-root > section > nav > div._8MQSO.Cx7Bp > div > div > div.QY4Ed.P0xOK > input')\n",
        "find_id.send_keys('ji_hwanzzang')  # 크롤링 하고자하는 유명인의 \"인스타 아이디\"를 입력해주세요\n",
        "time.sleep(5)\n",
        "\n",
        "# 셀럽아이디입력하고 홈페이지 띄우기\n",
        "for_click = driver.find_element_by_css_selector('#react-root > section > nav > div._8MQSO.Cx7Bp > div > div > div.QY4Ed.P0xOK > div.yPP5B > div > div._01UL2 > div > div:nth-child(1) > a')\n",
        "for_click.click()\n",
        "time.sleep(5)"
      ]
    },
    {
      "cell_type": "code",
      "execution_count": null,
      "id": "a06773c8",
      "metadata": {
        "id": "a06773c8",
        "outputId": "b576e33b-dc04-428d-cbb5-803713b76a00",
        "colab": {
          "referenced_widgets": [
            "d9d3f98fbc3f4a3d9678e354f7df5ec9",
            "f3afbee9ec004d068b88f3eb25a55d71",
            "d3669c126d7e4603b7aab01c8fddfc29",
            "167a8a9779d84255a0f6a69e85915416",
            "71659de7081e4bdab482f3b04ddf17d2",
            "24f3339ad67746e2b99fbe9f9af844b4",
            "223120f3f005425a807c178890a1f468",
            "bbd27a7b06cf44559705bcbb630577d3",
            "1e61801ca36a40a8903d5f27e7bce4db"
          ]
        }
      },
      "outputs": [
        {
          "data": {
            "application/vnd.jupyter.widget-view+json": {
              "model_id": "d9d3f98fbc3f4a3d9678e354f7df5ec9",
              "version_major": 2,
              "version_minor": 0
            },
            "text/plain": [
              "  0%|          | 0/8 [00:00<?, ?it/s]"
            ]
          },
          "metadata": {},
          "output_type": "display_data"
        },
        {
          "data": {
            "application/vnd.jupyter.widget-view+json": {
              "model_id": "f3afbee9ec004d068b88f3eb25a55d71",
              "version_major": 2,
              "version_minor": 0
            },
            "text/plain": [
              "  0%|          | 0/3 [00:00<?, ?it/s]"
            ]
          },
          "metadata": {},
          "output_type": "display_data"
        },
        {
          "name": "stdout",
          "output_type": "stream",
          "text": [
            "댓글 페이지를 최대로 확장하였습니다\n",
            "현재까지 긁어온 댓글의 수 : 12\n",
            "댓글 페이지를 최대로 확장하였습니다\n",
            "현재까지 긁어온 댓글의 수 : 24\n",
            "댓글 페이지를 최대로 확장하였습니다\n",
            "현재까지 긁어온 댓글의 수 : 36\n"
          ]
        },
        {
          "data": {
            "application/vnd.jupyter.widget-view+json": {
              "model_id": "d3669c126d7e4603b7aab01c8fddfc29",
              "version_major": 2,
              "version_minor": 0
            },
            "text/plain": [
              "  0%|          | 0/3 [00:00<?, ?it/s]"
            ]
          },
          "metadata": {},
          "output_type": "display_data"
        },
        {
          "name": "stdout",
          "output_type": "stream",
          "text": [
            "댓글 페이지를 최대로 확장하였습니다\n",
            "현재까지 긁어온 댓글의 수 : 48\n",
            "댓글 페이지를 최대로 확장하였습니다\n",
            "현재까지 긁어온 댓글의 수 : 60\n",
            "댓글 페이지를 최대로 확장하였습니다\n",
            "현재까지 긁어온 댓글의 수 : 72\n"
          ]
        },
        {
          "data": {
            "application/vnd.jupyter.widget-view+json": {
              "model_id": "167a8a9779d84255a0f6a69e85915416",
              "version_major": 2,
              "version_minor": 0
            },
            "text/plain": [
              "  0%|          | 0/3 [00:00<?, ?it/s]"
            ]
          },
          "metadata": {},
          "output_type": "display_data"
        },
        {
          "name": "stdout",
          "output_type": "stream",
          "text": [
            "댓글 페이지를 최대로 확장하였습니다\n",
            "현재까지 긁어온 댓글의 수 : 84\n",
            "댓글 페이지를 최대로 확장하였습니다\n",
            "현재까지 긁어온 댓글의 수 : 96\n",
            "댓글 페이지를 최대로 확장하였습니다\n",
            "현재까지 긁어온 댓글의 수 : 108\n"
          ]
        },
        {
          "data": {
            "application/vnd.jupyter.widget-view+json": {
              "model_id": "71659de7081e4bdab482f3b04ddf17d2",
              "version_major": 2,
              "version_minor": 0
            },
            "text/plain": [
              "  0%|          | 0/3 [00:00<?, ?it/s]"
            ]
          },
          "metadata": {},
          "output_type": "display_data"
        },
        {
          "name": "stdout",
          "output_type": "stream",
          "text": [
            "댓글 페이지를 최대로 확장하였습니다\n",
            "현재까지 긁어온 댓글의 수 : 120\n",
            "댓글 페이지를 최대로 확장하였습니다\n",
            "현재까지 긁어온 댓글의 수 : 132\n",
            "댓글 페이지를 최대로 확장하였습니다\n",
            "현재까지 긁어온 댓글의 수 : 144\n"
          ]
        },
        {
          "data": {
            "application/vnd.jupyter.widget-view+json": {
              "model_id": "24f3339ad67746e2b99fbe9f9af844b4",
              "version_major": 2,
              "version_minor": 0
            },
            "text/plain": [
              "  0%|          | 0/3 [00:00<?, ?it/s]"
            ]
          },
          "metadata": {},
          "output_type": "display_data"
        },
        {
          "name": "stdout",
          "output_type": "stream",
          "text": [
            "댓글 페이지를 최대로 확장하였습니다\n",
            "현재까지 긁어온 댓글의 수 : 156\n",
            "댓글 페이지를 최대로 확장하였습니다\n",
            "현재까지 긁어온 댓글의 수 : 168\n",
            "댓글 페이지를 최대로 확장하였습니다\n",
            "현재까지 긁어온 댓글의 수 : 180\n"
          ]
        },
        {
          "data": {
            "application/vnd.jupyter.widget-view+json": {
              "model_id": "223120f3f005425a807c178890a1f468",
              "version_major": 2,
              "version_minor": 0
            },
            "text/plain": [
              "  0%|          | 0/3 [00:00<?, ?it/s]"
            ]
          },
          "metadata": {},
          "output_type": "display_data"
        },
        {
          "name": "stdout",
          "output_type": "stream",
          "text": [
            "댓글 페이지를 최대로 확장하였습니다\n",
            "현재까지 긁어온 댓글의 수 : 192\n",
            "댓글 페이지를 최대로 확장하였습니다\n",
            "현재까지 긁어온 댓글의 수 : 204\n",
            "댓글 페이지를 최대로 확장하였습니다\n",
            "현재까지 긁어온 댓글의 수 : 216\n"
          ]
        },
        {
          "data": {
            "application/vnd.jupyter.widget-view+json": {
              "model_id": "bbd27a7b06cf44559705bcbb630577d3",
              "version_major": 2,
              "version_minor": 0
            },
            "text/plain": [
              "  0%|          | 0/3 [00:00<?, ?it/s]"
            ]
          },
          "metadata": {},
          "output_type": "display_data"
        },
        {
          "name": "stdout",
          "output_type": "stream",
          "text": [
            "댓글 페이지를 최대로 확장하였습니다\n",
            "현재까지 긁어온 댓글의 수 : 228\n",
            "댓글 페이지를 최대로 확장하였습니다\n",
            "현재까지 긁어온 댓글의 수 : 240\n",
            "댓글 페이지를 최대로 확장하였습니다\n",
            "현재까지 긁어온 댓글의 수 : 252\n"
          ]
        },
        {
          "data": {
            "application/vnd.jupyter.widget-view+json": {
              "model_id": "1e61801ca36a40a8903d5f27e7bce4db",
              "version_major": 2,
              "version_minor": 0
            },
            "text/plain": [
              "  0%|          | 0/3 [00:00<?, ?it/s]"
            ]
          },
          "metadata": {},
          "output_type": "display_data"
        },
        {
          "name": "stdout",
          "output_type": "stream",
          "text": [
            "댓글 페이지를 최대로 확장하였습니다\n",
            "현재까지 긁어온 댓글의 수 : 264\n",
            "댓글 페이지를 최대로 확장하였습니다\n",
            "현재까지 긁어온 댓글의 수 : 276\n",
            "댓글 페이지를 최대로 확장하였습니다\n",
            "현재까지 긁어온 댓글의 수 : 288\n"
          ]
        }
      ],
      "source": [
        "\n",
        "insta_list = driver.find_element_by_css_selector('body > div > section._9eogI > main.SCxLW > div > div._2z6nI > article.ySN3v > div > div')\n",
        "big_list = insta_list.find_elements_by_css_selector('div.Nnq7C')\n",
        "\n",
        "comment_list = []\n",
        "\n",
        "for small_list in tqdm_notebook(big_list):\n",
        "    for_click_list = small_list.find_elements_by_css_selector('div.v1Nh3 > a')\n",
        "    \n",
        "    for element in tqdm_notebook(for_click_list):\n",
        "        \n",
        "        # 개시물 오픈\n",
        "        element.send_keys('\\n')\n",
        "        time.sleep(5)\n",
        "        \n",
        "        # 댓글란 최대한 열기\n",
        "        while 1:\n",
        "            try:\n",
        "                expansion_comment = driver.find_element_by_css_selector('button.wp06b')\n",
        "                expansion_comment.send_keys('\\n')\n",
        "                time.sleep(3)\n",
        "            except :\n",
        "                print('댓글 페이지를 최대로 확장하였습니다')\n",
        "                break\n",
        "        \n",
        "        \n",
        "        # 게시글 크롤링\n",
        "        comment_body_list = driver.find_elements_by_css_selector('body > div.RnEpo._Yhr4 > div.pbNvD.QZZGH.bW6vo > div > article > div > div.HP0qD > div > div > div.eo2As > div.EtaWk > ul.XQXOT > ul.Mr508')\n",
        "        for comment_body in comment_body_list:\n",
        "            comment = comment_body.find_element_by_css_selector('div > li > div > div.C7I1f > div.C4VMK > span')\n",
        "            comment_list.append(comment.text)\n",
        "        print('현재까지 긁어온 댓글의 수 :', len(comment_list))\n",
        "        \n",
        "        \n",
        "        # 게시물 닫기\n",
        "        close_bnt = driver.find_element_by_css_selector('body > div.RnEpo._Yhr4 > div.NOTWr > button')\n",
        "        close_bnt.send_keys('\\n')\n",
        "        \n",
        "    time.sleep(5)\n",
        "\n",
        "        "
      ]
    },
    {
      "cell_type": "code",
      "execution_count": null,
      "id": "8e187ac7",
      "metadata": {
        "id": "8e187ac7",
        "outputId": "7c587f88-9607-4193-b750-8625abfbd40e"
      },
      "outputs": [
        {
          "data": {
            "text/html": [
              "<div>\n",
              "<style scoped>\n",
              "    .dataframe tbody tr th:only-of-type {\n",
              "        vertical-align: middle;\n",
              "    }\n",
              "\n",
              "    .dataframe tbody tr th {\n",
              "        vertical-align: top;\n",
              "    }\n",
              "\n",
              "    .dataframe thead th {\n",
              "        text-align: right;\n",
              "    }\n",
              "</style>\n",
              "<table border=\"1\" class=\"dataframe\">\n",
              "  <thead>\n",
              "    <tr style=\"text-align: right;\">\n",
              "      <th></th>\n",
              "      <th>댓글</th>\n",
              "    </tr>\n",
              "  </thead>\n",
              "  <tbody>\n",
              "    <tr>\n",
              "      <th>0</th>\n",
              "      <td>오빠사랑해</td>\n",
              "    </tr>\n",
              "    <tr>\n",
              "      <th>1</th>\n",
              "      <td>어쩌라고</td>\n",
              "    </tr>\n",
              "    <tr>\n",
              "      <th>2</th>\n",
              "      <td>장염걸려라 ㅋㅋ</td>\n",
              "    </tr>\n",
              "    <tr>\n",
              "      <th>3</th>\n",
              "      <td>오빠 나도 잘먹을 자신있는데😘</td>\n",
              "    </tr>\n",
              "    <tr>\n",
              "      <th>4</th>\n",
              "      <td>마시쪙? 마시쪙!</td>\n",
              "    </tr>\n",
              "  </tbody>\n",
              "</table>\n",
              "</div>"
            ],
            "text/plain": [
              "                 댓글\n",
              "0             오빠사랑해\n",
              "1              어쩌라고\n",
              "2          장염걸려라 ㅋㅋ\n",
              "3  오빠 나도 잘먹을 자신있는데😘\n",
              "4         마시쪙? 마시쪙!"
            ]
          },
          "execution_count": 17,
          "metadata": {},
          "output_type": "execute_result"
        }
      ],
      "source": [
        "data = pd.DataFrame({'댓글' : comment_list})\n",
        "    \n",
        "data.head()"
      ]
    },
    {
      "cell_type": "code",
      "execution_count": null,
      "id": "ba765c21",
      "metadata": {
        "id": "ba765c21"
      },
      "outputs": [],
      "source": [
        "data.to_csv('jihwan.csv', encoding='utf-8-sig')"
      ]
    },
    {
      "cell_type": "code",
      "execution_count": null,
      "id": "06992851",
      "metadata": {
        "id": "06992851"
      },
      "outputs": [],
      "source": [
        ""
      ]
    }
  ],
  "metadata": {
    "kernelspec": {
      "display_name": "Python 3 (ipykernel)",
      "language": "python",
      "name": "python3"
    },
    "language_info": {
      "codemirror_mode": {
        "name": "ipython",
        "version": 3
      },
      "file_extension": ".py",
      "mimetype": "text/x-python",
      "name": "python",
      "nbconvert_exporter": "python",
      "pygments_lexer": "ipython3",
      "version": "3.9.6"
    },
    "colab": {
      "name": "instagram_jihwan_crawler.ipynb",
      "provenance": []
    }
  },
  "nbformat": 4,
  "nbformat_minor": 5
}