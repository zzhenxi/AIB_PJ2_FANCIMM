{
  "cells": [
    {
      "cell_type": "code",
      "execution_count": null,
      "id": "4c91ad7c",
      "metadata": {
        "id": "4c91ad7c"
      },
      "outputs": [],
      "source": [
        "import warnings\n",
        "warnings.filterwarnings('ignore')"
      ]
    },
    {
      "cell_type": "code",
      "execution_count": null,
      "id": "1d6868e7",
      "metadata": {
        "id": "1d6868e7"
      },
      "outputs": [],
      "source": [
        "from selenium import webdriver\n",
        "from bs4 import BeautifulSoup\n",
        "from tqdm import tqdm_notebook\n",
        "\n",
        "import time\n",
        "import pandas as pd\n",
        "import numpy as np"
      ]
    },
    {
      "cell_type": "code",
      "execution_count": null,
      "id": "aa7c2f73",
      "metadata": {
        "id": "aa7c2f73"
      },
      "outputs": [],
      "source": [
        "#Selenium으로 인스타홈페이지 접속\n",
        "driver_path = \"/Users/adg/Desktop/crawl/driver/chromedriver\"\n",
        "driver = webdriver.Chrome(driver_path)\n",
        "driver.get(\"http://instagram.com\")\n",
        "\n",
        "time.sleep(5)"
      ]
    },
    {
      "cell_type": "code",
      "execution_count": null,
      "id": "df96b4c3",
      "metadata": {
        "id": "df96b4c3"
      },
      "outputs": [],
      "source": [
        "#인스타 아이디 로그인\n",
        "id_input_temp, pwd_input_temp = tuple(driver.find_elements_by_css_selector('div.gr27e > div.EPjEi > form.HmktE > div > div.-MzZI'))\n",
        "\n",
        "id_input  = id_input_temp.find_element_by_css_selector('div > label')\n",
        "pwd_input = pwd_input_temp.find_element_by_css_selector('div > label')\n",
        "\n",
        "id_input.send_keys('aa_dgii')   # 인스타아이디 입력\n",
        "pwd_input.send_keys('***')       # 인스타비밀번호 입력\n",
        "\n",
        "pwd_input.submit()\n",
        "\n",
        "time.sleep(5)"
      ]
    },
    {
      "cell_type": "code",
      "execution_count": null,
      "id": "6443fd11",
      "metadata": {
        "id": "6443fd11"
      },
      "outputs": [],
      "source": [
        "# 셀럽아이디입력\n",
        "# 우왁굳, 괴물쥐123, 서새봄냥, 강지, 김블루, 오킹, 견자희, 김재원_, 앰비션_, berry0314\n",
        "# 머독, 미라지, 태준이, 개리형, 군림보, 실프_, 악어, Charming_Jo, 선바, 양띵\n",
        "celeb_list = ['instawakgood', 'ji_hwanzzang', 'bloomsebom', 'gangg1115',\n",
        "             'kimblue_37', 'oking1025', 'ruswkgml', 'kimjaewon1998',\n",
        "             'ambition921027', 'berry_is_blooming', 'angry_boy_man', 'baejungmin720',\n",
        "             'ma.vub.sa', '_gary_bro', 'rnsflaqh_', 'hidenoriz_',\n",
        "             'acau1197', 'jangwoo_jo', 'sunbakim', 'yd0821']\n",
        "\n",
        "find_id = driver.find_element_by_css_selector('#react-root > section > nav > div._8MQSO.Cx7Bp > div > div > div.QY4Ed.P0xOK > input')\n",
        "find_id.send_keys('jangwoo_jo')  # 크롤링 하고자하는 유명인의 \"인스타 아이디\"를 입력해주세요\n",
        "time.sleep(5)\n",
        "\n",
        "# 셀럽아이디입력하고 홈페이지 띄우기\n",
        "for_click = driver.find_element_by_css_selector('#react-root > section > nav > div._8MQSO.Cx7Bp > div > div > div.QY4Ed.P0xOK > div.yPP5B > div > div._01UL2 > div > div:nth-child(1) > a')\n",
        "for_click.click()\n",
        "time.sleep(5)"
      ]
    },
    {
      "cell_type": "code",
      "execution_count": null,
      "id": "92036fe9",
      "metadata": {
        "id": "92036fe9",
        "outputId": "cb7d850b-ba4c-478c-ecad-2262b9b5bec8",
        "colab": {
          "referenced_widgets": [
            "41aaee8f7c784b1dbb3b16163990ec9c",
            "dd37c4fb2490446c8c2055e567ec0df0",
            "948a3e95dd84471098d1dcdf1cba6f4d",
            "97ce3f75a89c4f04a3c4794aeeed8e68",
            "b7af23c712224f19991bc2a3168c6f0c",
            "41e316fb74614081a8e210aae0e41665",
            "4033b634162043f396ff1801e9b74952",
            "eb7d3c2d6cfe41b591aa1487edbd92d5",
            "1ff8ebdf5e7c4e2ebe4866a033f6d532",
            "e65c9931b7ef416c811d9bfcf32c2c1e",
            "207f8d435a2a4b2e90bc22fe08f65ced"
          ]
        }
      },
      "outputs": [
        {
          "data": {
            "application/vnd.jupyter.widget-view+json": {
              "model_id": "41aaee8f7c784b1dbb3b16163990ec9c",
              "version_major": 2,
              "version_minor": 0
            },
            "text/plain": [
              "  0%|          | 0/10 [00:00<?, ?it/s]"
            ]
          },
          "metadata": {},
          "output_type": "display_data"
        },
        {
          "data": {
            "application/vnd.jupyter.widget-view+json": {
              "model_id": "dd37c4fb2490446c8c2055e567ec0df0",
              "version_major": 2,
              "version_minor": 0
            },
            "text/plain": [
              "  0%|          | 0/3 [00:00<?, ?it/s]"
            ]
          },
          "metadata": {},
          "output_type": "display_data"
        },
        {
          "name": "stdout",
          "output_type": "stream",
          "text": [
            "댓글 페이지를 최대로 확장하였습니다\n",
            "현재까지 긁어온 댓글의 수 : 12\n",
            "댓글 페이지를 최대로 확장하였습니다\n",
            "현재까지 긁어온 댓글의 수 : 24\n",
            "댓글 페이지를 최대로 확장하였습니다\n",
            "현재까지 긁어온 댓글의 수 : 36\n"
          ]
        },
        {
          "data": {
            "application/vnd.jupyter.widget-view+json": {
              "model_id": "948a3e95dd84471098d1dcdf1cba6f4d",
              "version_major": 2,
              "version_minor": 0
            },
            "text/plain": [
              "  0%|          | 0/3 [00:00<?, ?it/s]"
            ]
          },
          "metadata": {},
          "output_type": "display_data"
        },
        {
          "name": "stdout",
          "output_type": "stream",
          "text": [
            "댓글 페이지를 최대로 확장하였습니다\n",
            "현재까지 긁어온 댓글의 수 : 48\n",
            "댓글 페이지를 최대로 확장하였습니다\n",
            "현재까지 긁어온 댓글의 수 : 60\n",
            "댓글 페이지를 최대로 확장하였습니다\n",
            "현재까지 긁어온 댓글의 수 : 72\n"
          ]
        },
        {
          "data": {
            "application/vnd.jupyter.widget-view+json": {
              "model_id": "97ce3f75a89c4f04a3c4794aeeed8e68",
              "version_major": 2,
              "version_minor": 0
            },
            "text/plain": [
              "  0%|          | 0/3 [00:00<?, ?it/s]"
            ]
          },
          "metadata": {},
          "output_type": "display_data"
        },
        {
          "name": "stdout",
          "output_type": "stream",
          "text": [
            "댓글 페이지를 최대로 확장하였습니다\n",
            "현재까지 긁어온 댓글의 수 : 84\n",
            "댓글 페이지를 최대로 확장하였습니다\n",
            "현재까지 긁어온 댓글의 수 : 96\n",
            "댓글 페이지를 최대로 확장하였습니다\n",
            "현재까지 긁어온 댓글의 수 : 106\n"
          ]
        },
        {
          "data": {
            "application/vnd.jupyter.widget-view+json": {
              "model_id": "b7af23c712224f19991bc2a3168c6f0c",
              "version_major": 2,
              "version_minor": 0
            },
            "text/plain": [
              "  0%|          | 0/3 [00:00<?, ?it/s]"
            ]
          },
          "metadata": {},
          "output_type": "display_data"
        },
        {
          "name": "stdout",
          "output_type": "stream",
          "text": [
            "댓글 페이지를 최대로 확장하였습니다\n",
            "현재까지 긁어온 댓글의 수 : 118\n",
            "댓글 페이지를 최대로 확장하였습니다\n",
            "현재까지 긁어온 댓글의 수 : 130\n",
            "댓글 페이지를 최대로 확장하였습니다\n",
            "현재까지 긁어온 댓글의 수 : 142\n"
          ]
        },
        {
          "data": {
            "application/vnd.jupyter.widget-view+json": {
              "model_id": "41e316fb74614081a8e210aae0e41665",
              "version_major": 2,
              "version_minor": 0
            },
            "text/plain": [
              "  0%|          | 0/3 [00:00<?, ?it/s]"
            ]
          },
          "metadata": {},
          "output_type": "display_data"
        },
        {
          "name": "stdout",
          "output_type": "stream",
          "text": [
            "댓글 페이지를 최대로 확장하였습니다\n",
            "현재까지 긁어온 댓글의 수 : 154\n",
            "댓글 페이지를 최대로 확장하였습니다\n",
            "현재까지 긁어온 댓글의 수 : 166\n",
            "댓글 페이지를 최대로 확장하였습니다\n",
            "현재까지 긁어온 댓글의 수 : 178\n"
          ]
        },
        {
          "data": {
            "application/vnd.jupyter.widget-view+json": {
              "model_id": "4033b634162043f396ff1801e9b74952",
              "version_major": 2,
              "version_minor": 0
            },
            "text/plain": [
              "  0%|          | 0/3 [00:00<?, ?it/s]"
            ]
          },
          "metadata": {},
          "output_type": "display_data"
        },
        {
          "name": "stdout",
          "output_type": "stream",
          "text": [
            "댓글 페이지를 최대로 확장하였습니다\n",
            "현재까지 긁어온 댓글의 수 : 190\n",
            "댓글 페이지를 최대로 확장하였습니다\n",
            "현재까지 긁어온 댓글의 수 : 202\n",
            "댓글 페이지를 최대로 확장하였습니다\n",
            "현재까지 긁어온 댓글의 수 : 214\n"
          ]
        },
        {
          "data": {
            "application/vnd.jupyter.widget-view+json": {
              "model_id": "eb7d3c2d6cfe41b591aa1487edbd92d5",
              "version_major": 2,
              "version_minor": 0
            },
            "text/plain": [
              "  0%|          | 0/3 [00:00<?, ?it/s]"
            ]
          },
          "metadata": {},
          "output_type": "display_data"
        },
        {
          "name": "stdout",
          "output_type": "stream",
          "text": [
            "댓글 페이지를 최대로 확장하였습니다\n",
            "현재까지 긁어온 댓글의 수 : 214\n",
            "댓글 페이지를 최대로 확장하였습니다\n",
            "현재까지 긁어온 댓글의 수 : 214\n",
            "댓글 페이지를 최대로 확장하였습니다\n",
            "현재까지 긁어온 댓글의 수 : 214\n"
          ]
        },
        {
          "data": {
            "application/vnd.jupyter.widget-view+json": {
              "model_id": "1ff8ebdf5e7c4e2ebe4866a033f6d532",
              "version_major": 2,
              "version_minor": 0
            },
            "text/plain": [
              "  0%|          | 0/3 [00:00<?, ?it/s]"
            ]
          },
          "metadata": {},
          "output_type": "display_data"
        },
        {
          "name": "stdout",
          "output_type": "stream",
          "text": [
            "댓글 페이지를 최대로 확장하였습니다\n",
            "현재까지 긁어온 댓글의 수 : 214\n",
            "댓글 페이지를 최대로 확장하였습니다\n",
            "현재까지 긁어온 댓글의 수 : 214\n",
            "댓글 페이지를 최대로 확장하였습니다\n",
            "현재까지 긁어온 댓글의 수 : 214\n"
          ]
        },
        {
          "data": {
            "application/vnd.jupyter.widget-view+json": {
              "model_id": "e65c9931b7ef416c811d9bfcf32c2c1e",
              "version_major": 2,
              "version_minor": 0
            },
            "text/plain": [
              "  0%|          | 0/3 [00:00<?, ?it/s]"
            ]
          },
          "metadata": {},
          "output_type": "display_data"
        },
        {
          "name": "stdout",
          "output_type": "stream",
          "text": [
            "댓글 페이지를 최대로 확장하였습니다\n",
            "현재까지 긁어온 댓글의 수 : 214\n",
            "댓글 페이지를 최대로 확장하였습니다\n",
            "현재까지 긁어온 댓글의 수 : 214\n",
            "댓글 페이지를 최대로 확장하였습니다\n",
            "현재까지 긁어온 댓글의 수 : 214\n"
          ]
        },
        {
          "data": {
            "application/vnd.jupyter.widget-view+json": {
              "model_id": "207f8d435a2a4b2e90bc22fe08f65ced",
              "version_major": 2,
              "version_minor": 0
            },
            "text/plain": [
              "  0%|          | 0/3 [00:00<?, ?it/s]"
            ]
          },
          "metadata": {},
          "output_type": "display_data"
        },
        {
          "name": "stdout",
          "output_type": "stream",
          "text": [
            "댓글 페이지를 최대로 확장하였습니다\n",
            "현재까지 긁어온 댓글의 수 : 214\n",
            "댓글 페이지를 최대로 확장하였습니다\n",
            "현재까지 긁어온 댓글의 수 : 214\n",
            "댓글 페이지를 최대로 확장하였습니다\n",
            "현재까지 긁어온 댓글의 수 : 214\n"
          ]
        }
      ],
      "source": [
        "\n",
        "insta_list = driver.find_element_by_css_selector('body > div > section._9eogI > main.SCxLW > div > div._2z6nI > article.ySN3v > div > div')\n",
        "big_list = insta_list.find_elements_by_css_selector('div.Nnq7C')\n",
        "\n",
        "comment_list = []\n",
        "\n",
        "for small_list in tqdm_notebook(big_list):\n",
        "    for_click_list = small_list.find_elements_by_css_selector('div.v1Nh3 > a')\n",
        "    \n",
        "    for element in tqdm_notebook(for_click_list):\n",
        "        \n",
        "        # 개시물 오픈\n",
        "        element.send_keys('\\n')\n",
        "        time.sleep(5)\n",
        "        \n",
        "        # 댓글란 최대한 열기\n",
        "        while 1:\n",
        "            try:\n",
        "                expansion_comment = driver.find_element_by_css_selector('button.wp06b')\n",
        "                expansion_comment.send_keys('\\n')\n",
        "                time.sleep(3)\n",
        "            except :\n",
        "                print('댓글 페이지를 최대로 확장하였습니다')\n",
        "                break\n",
        "        \n",
        "        \n",
        "        # 게시글 크롤링\n",
        "        comment_body_list = driver.find_elements_by_css_selector('body > div.RnEpo._Yhr4 > div.pbNvD.QZZGH.bW6vo > div > article > div > div.HP0qD > div > div > div.eo2As > div.EtaWk > ul.XQXOT > ul.Mr508')\n",
        "        for comment_body in comment_body_list:\n",
        "            comment = comment_body.find_element_by_css_selector('div > li > div > div.C7I1f > div.C4VMK > span')\n",
        "            time.sleep(1.5)\n",
        "            comment_list.append(comment.text)\n",
        "        print('현재까지 긁어온 댓글의 수 :', len(comment_list))\n",
        "        \n",
        "        \n",
        "        # 게시물 닫기\n",
        "        close_bnt = driver.find_element_by_css_selector('body > div.RnEpo._Yhr4 > div.NOTWr > button')\n",
        "        close_bnt.send_keys('\\n')\n",
        "        \n",
        "    time.sleep(5)"
      ]
    },
    {
      "cell_type": "code",
      "execution_count": null,
      "id": "d7acf11f",
      "metadata": {
        "id": "d7acf11f",
        "outputId": "dca9696f-435d-4777-d7f2-4e0a7d7db69e"
      },
      "outputs": [
        {
          "data": {
            "text/html": [
              "<div>\n",
              "<style scoped>\n",
              "    .dataframe tbody tr th:only-of-type {\n",
              "        vertical-align: middle;\n",
              "    }\n",
              "\n",
              "    .dataframe tbody tr th {\n",
              "        vertical-align: top;\n",
              "    }\n",
              "\n",
              "    .dataframe thead th {\n",
              "        text-align: right;\n",
              "    }\n",
              "</style>\n",
              "<table border=\"1\" class=\"dataframe\">\n",
              "  <thead>\n",
              "    <tr style=\"text-align: right;\">\n",
              "      <th></th>\n",
              "      <th>댓글</th>\n",
              "    </tr>\n",
              "  </thead>\n",
              "  <tbody>\n",
              "    <tr>\n",
              "      <th>0</th>\n",
              "      <td>원노트삼바 ㅋㅋㅋ</td>\n",
              "    </tr>\n",
              "    <tr>\n",
              "      <th>1</th>\n",
              "      <td>곧 있으면 재즈클럽에 공연하러 다니겠구만..</td>\n",
              "    </tr>\n",
              "    <tr>\n",
              "      <th>2</th>\n",
              "      <td>원 노트 삼발ㄷㄷ</td>\n",
              "    </tr>\n",
              "    <tr>\n",
              "      <th>3</th>\n",
              "      <td>비디오키즈😍챠밍조도빠둥이👏</td>\n",
              "    </tr>\n",
              "    <tr>\n",
              "      <th>4</th>\n",
              "      <td>재즈계의 발을 내딛다 !</td>\n",
              "    </tr>\n",
              "  </tbody>\n",
              "</table>\n",
              "</div>"
            ],
            "text/plain": [
              "                         댓글\n",
              "0                 원노트삼바 ㅋㅋㅋ\n",
              "1  곧 있으면 재즈클럽에 공연하러 다니겠구만..\n",
              "2                 원 노트 삼발ㄷㄷ\n",
              "3            비디오키즈😍챠밍조도빠둥이👏\n",
              "4             재즈계의 발을 내딛다 !"
            ]
          },
          "execution_count": 9,
          "metadata": {},
          "output_type": "execute_result"
        }
      ],
      "source": [
        "data = pd.DataFrame({'댓글' : comment_list})\n",
        "    \n",
        "data.head()"
      ]
    },
    {
      "cell_type": "code",
      "execution_count": null,
      "id": "4ae4f3fb",
      "metadata": {
        "id": "4ae4f3fb"
      },
      "outputs": [],
      "source": [
        "data.to_csv('CharmingJo.csv', encoding='utf-8-sig')"
      ]
    },
    {
      "cell_type": "code",
      "execution_count": null,
      "id": "bc71d693",
      "metadata": {
        "id": "bc71d693"
      },
      "outputs": [],
      "source": [
        ""
      ]
    }
  ],
  "metadata": {
    "kernelspec": {
      "display_name": "Python 3 (ipykernel)",
      "language": "python",
      "name": "python3"
    },
    "language_info": {
      "codemirror_mode": {
        "name": "ipython",
        "version": 3
      },
      "file_extension": ".py",
      "mimetype": "text/x-python",
      "name": "python",
      "nbconvert_exporter": "python",
      "pygments_lexer": "ipython3",
      "version": "3.9.6"
    },
    "colab": {
      "name": "instagram_\bCharmingJo_crawler.ipynb",
      "provenance": []
    }
  },
  "nbformat": 4,
  "nbformat_minor": 5
}