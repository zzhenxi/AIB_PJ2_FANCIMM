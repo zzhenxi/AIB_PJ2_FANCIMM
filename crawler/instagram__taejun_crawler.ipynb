{
  "cells": [
    {
      "cell_type": "code",
      "execution_count": null,
      "id": "4086bab5",
      "metadata": {
        "id": "4086bab5"
      },
      "outputs": [],
      "source": [
        "import warnings\n",
        "warnings.filterwarnings('ignore')"
      ]
    },
    {
      "cell_type": "code",
      "execution_count": null,
      "id": "e32d78d0",
      "metadata": {
        "id": "e32d78d0"
      },
      "outputs": [],
      "source": [
        "from selenium import webdriver\n",
        "from bs4 import BeautifulSoup\n",
        "from tqdm import tqdm_notebook\n",
        "\n",
        "import time\n",
        "import pandas as pd\n",
        "import numpy as np"
      ]
    },
    {
      "cell_type": "code",
      "execution_count": null,
      "id": "764cd1e2",
      "metadata": {
        "id": "764cd1e2"
      },
      "outputs": [],
      "source": [
        "#Selenium으로 인스타홈페이지 접속\n",
        "driver_path = \"/Users/adg/Desktop/crawl/driver/chromedriver\"\n",
        "driver = webdriver.Chrome(driver_path)\n",
        "driver.get(\"http://instagram.com\")\n",
        "\n",
        "time.sleep(5)"
      ]
    },
    {
      "cell_type": "code",
      "execution_count": null,
      "id": "70674b54",
      "metadata": {
        "id": "70674b54"
      },
      "outputs": [],
      "source": [
        "#인스타 아이디 로그인\n",
        "id_input_temp, pwd_input_temp = tuple(driver.find_elements_by_css_selector('div.gr27e > div.EPjEi > form.HmktE > div > div.-MzZI'))\n",
        "\n",
        "id_input  = id_input_temp.find_element_by_css_selector('div > label')\n",
        "pwd_input = pwd_input_temp.find_element_by_css_selector('div > label')\n",
        "\n",
        "id_input.send_keys('aa_dgii')   # 인스타아이디 입력\n",
        "pwd_input.send_keys('***')       # 인스타비밀번호 입력\n",
        "\n",
        "pwd_input.submit()\n",
        "\n",
        "time.sleep(5)"
      ]
    },
    {
      "cell_type": "code",
      "execution_count": null,
      "id": "7396db05",
      "metadata": {
        "id": "7396db05"
      },
      "outputs": [],
      "source": [
        "# 셀럽아이디입력\n",
        "# 우왁굳, 괴물쥐123, 서새봄냥, 강지, 김블루, 오킹, 견자희, 김재원_, 앰비션_, berry0314\n",
        "# 머독, 미라지, 태준이, 개리형, 군림보, 실프_, 악어, Charming_Jo, 선바, 양띵\n",
        "celeb_list = ['instawakgood', 'ji_hwanzzang', 'bloomsebom', 'gangg1115',\n",
        "             'kimblue_37', 'oking1025', 'ruswkgml', 'kimjaewon1998',\n",
        "             'ambition921027', 'berry_is_blooming', 'angry_boy_man', 'baejungmin720',\n",
        "             'ma.vub.sa', '_gary_bro', 'rnsflaqh_', 'hidenoriz_',\n",
        "             'acau1197', 'jangwoo_jo', 'sunbakim', 'yd0821']\n",
        "\n",
        "find_id = driver.find_element_by_css_selector('#react-root > section > nav > div._8MQSO.Cx7Bp > div > div > div.QY4Ed.P0xOK > input')\n",
        "find_id.send_keys('ma.vub.sa')  # 크롤링 하고자하는 유명인의 \"인스타 아이디\"를 입력해주세요\n",
        "time.sleep(5)\n",
        "\n",
        "# 셀럽아이디입력하고 홈페이지 띄우기\n",
        "for_click = driver.find_element_by_css_selector('#react-root > section > nav > div._8MQSO.Cx7Bp > div > div > div.QY4Ed.P0xOK > div.yPP5B > div > div._01UL2 > div > div:nth-child(1) > a')\n",
        "for_click.click()\n",
        "time.sleep(5)"
      ]
    },
    {
      "cell_type": "code",
      "execution_count": null,
      "id": "c36d0f86",
      "metadata": {
        "id": "c36d0f86",
        "outputId": "0288d625-80c4-414b-888a-f9c655484d52",
        "colab": {
          "referenced_widgets": [
            "d99a1fc56330497599ec3f4eaf235a38",
            "865979f2223d4605a3abe36d05daacb1",
            "c9270cee8e334f00989e82631f4ee30e",
            "932851080c3d4e67895b541eab501711",
            "f92b134e54a1451794dbe32580fe6447",
            "6b27f798b7794d4bb2a057484b1361e7",
            "b6e96f6b4af04b759bad1ad0204c492d",
            "ffdc98ab1daa4d4dbe06b56321de3a10",
            "17e78f1fea724351a03669d8251bd49d"
          ]
        }
      },
      "outputs": [
        {
          "data": {
            "application/vnd.jupyter.widget-view+json": {
              "model_id": "d99a1fc56330497599ec3f4eaf235a38",
              "version_major": 2,
              "version_minor": 0
            },
            "text/plain": [
              "  0%|          | 0/8 [00:00<?, ?it/s]"
            ]
          },
          "metadata": {},
          "output_type": "display_data"
        },
        {
          "data": {
            "application/vnd.jupyter.widget-view+json": {
              "model_id": "865979f2223d4605a3abe36d05daacb1",
              "version_major": 2,
              "version_minor": 0
            },
            "text/plain": [
              "  0%|          | 0/3 [00:00<?, ?it/s]"
            ]
          },
          "metadata": {},
          "output_type": "display_data"
        },
        {
          "name": "stdout",
          "output_type": "stream",
          "text": [
            "댓글 페이지를 최대로 확장하였습니다\n",
            "현재까지 긁어온 댓글의 수 : 12\n",
            "댓글 페이지를 최대로 확장하였습니다\n",
            "현재까지 긁어온 댓글의 수 : 24\n",
            "댓글 페이지를 최대로 확장하였습니다\n",
            "현재까지 긁어온 댓글의 수 : 36\n"
          ]
        },
        {
          "data": {
            "application/vnd.jupyter.widget-view+json": {
              "model_id": "c9270cee8e334f00989e82631f4ee30e",
              "version_major": 2,
              "version_minor": 0
            },
            "text/plain": [
              "  0%|          | 0/3 [00:00<?, ?it/s]"
            ]
          },
          "metadata": {},
          "output_type": "display_data"
        },
        {
          "name": "stdout",
          "output_type": "stream",
          "text": [
            "댓글 페이지를 최대로 확장하였습니다\n",
            "현재까지 긁어온 댓글의 수 : 48\n",
            "댓글 페이지를 최대로 확장하였습니다\n",
            "현재까지 긁어온 댓글의 수 : 60\n",
            "댓글 페이지를 최대로 확장하였습니다\n",
            "현재까지 긁어온 댓글의 수 : 72\n"
          ]
        },
        {
          "data": {
            "application/vnd.jupyter.widget-view+json": {
              "model_id": "932851080c3d4e67895b541eab501711",
              "version_major": 2,
              "version_minor": 0
            },
            "text/plain": [
              "  0%|          | 0/3 [00:00<?, ?it/s]"
            ]
          },
          "metadata": {},
          "output_type": "display_data"
        },
        {
          "name": "stdout",
          "output_type": "stream",
          "text": [
            "댓글 페이지를 최대로 확장하였습니다\n",
            "현재까지 긁어온 댓글의 수 : 84\n",
            "댓글 페이지를 최대로 확장하였습니다\n",
            "현재까지 긁어온 댓글의 수 : 96\n",
            "댓글 페이지를 최대로 확장하였습니다\n",
            "현재까지 긁어온 댓글의 수 : 108\n"
          ]
        },
        {
          "data": {
            "application/vnd.jupyter.widget-view+json": {
              "model_id": "f92b134e54a1451794dbe32580fe6447",
              "version_major": 2,
              "version_minor": 0
            },
            "text/plain": [
              "  0%|          | 0/3 [00:00<?, ?it/s]"
            ]
          },
          "metadata": {},
          "output_type": "display_data"
        },
        {
          "name": "stdout",
          "output_type": "stream",
          "text": [
            "댓글 페이지를 최대로 확장하였습니다\n",
            "현재까지 긁어온 댓글의 수 : 120\n",
            "댓글 페이지를 최대로 확장하였습니다\n",
            "현재까지 긁어온 댓글의 수 : 132\n",
            "댓글 페이지를 최대로 확장하였습니다\n",
            "현재까지 긁어온 댓글의 수 : 144\n"
          ]
        },
        {
          "data": {
            "application/vnd.jupyter.widget-view+json": {
              "model_id": "6b27f798b7794d4bb2a057484b1361e7",
              "version_major": 2,
              "version_minor": 0
            },
            "text/plain": [
              "  0%|          | 0/3 [00:00<?, ?it/s]"
            ]
          },
          "metadata": {},
          "output_type": "display_data"
        },
        {
          "name": "stdout",
          "output_type": "stream",
          "text": [
            "댓글 페이지를 최대로 확장하였습니다\n",
            "현재까지 긁어온 댓글의 수 : 156\n",
            "댓글 페이지를 최대로 확장하였습니다\n",
            "현재까지 긁어온 댓글의 수 : 168\n",
            "댓글 페이지를 최대로 확장하였습니다\n",
            "현재까지 긁어온 댓글의 수 : 180\n"
          ]
        },
        {
          "data": {
            "application/vnd.jupyter.widget-view+json": {
              "model_id": "b6e96f6b4af04b759bad1ad0204c492d",
              "version_major": 2,
              "version_minor": 0
            },
            "text/plain": [
              "  0%|          | 0/3 [00:00<?, ?it/s]"
            ]
          },
          "metadata": {},
          "output_type": "display_data"
        },
        {
          "name": "stdout",
          "output_type": "stream",
          "text": [
            "댓글 페이지를 최대로 확장하였습니다\n",
            "현재까지 긁어온 댓글의 수 : 192\n",
            "댓글 페이지를 최대로 확장하였습니다\n",
            "현재까지 긁어온 댓글의 수 : 204\n",
            "댓글 페이지를 최대로 확장하였습니다\n",
            "현재까지 긁어온 댓글의 수 : 216\n"
          ]
        },
        {
          "data": {
            "application/vnd.jupyter.widget-view+json": {
              "model_id": "ffdc98ab1daa4d4dbe06b56321de3a10",
              "version_major": 2,
              "version_minor": 0
            },
            "text/plain": [
              "  0%|          | 0/3 [00:00<?, ?it/s]"
            ]
          },
          "metadata": {},
          "output_type": "display_data"
        },
        {
          "name": "stdout",
          "output_type": "stream",
          "text": [
            "댓글 페이지를 최대로 확장하였습니다\n",
            "현재까지 긁어온 댓글의 수 : 228\n",
            "댓글 페이지를 최대로 확장하였습니다\n",
            "현재까지 긁어온 댓글의 수 : 240\n",
            "댓글 페이지를 최대로 확장하였습니다\n",
            "현재까지 긁어온 댓글의 수 : 252\n"
          ]
        },
        {
          "data": {
            "application/vnd.jupyter.widget-view+json": {
              "model_id": "17e78f1fea724351a03669d8251bd49d",
              "version_major": 2,
              "version_minor": 0
            },
            "text/plain": [
              "  0%|          | 0/3 [00:00<?, ?it/s]"
            ]
          },
          "metadata": {},
          "output_type": "display_data"
        },
        {
          "name": "stdout",
          "output_type": "stream",
          "text": [
            "댓글 페이지를 최대로 확장하였습니다\n",
            "현재까지 긁어온 댓글의 수 : 252\n",
            "댓글 페이지를 최대로 확장하였습니다\n",
            "현재까지 긁어온 댓글의 수 : 264\n",
            "댓글 페이지를 최대로 확장하였습니다\n",
            "현재까지 긁어온 댓글의 수 : 276\n"
          ]
        }
      ],
      "source": [
        "\n",
        "insta_list = driver.find_element_by_css_selector('body > div > section._9eogI > main.SCxLW > div > div._2z6nI > article.ySN3v > div > div')\n",
        "big_list = insta_list.find_elements_by_css_selector('div.Nnq7C')\n",
        "\n",
        "comment_list = []\n",
        "\n",
        "for small_list in tqdm_notebook(big_list):\n",
        "    for_click_list = small_list.find_elements_by_css_selector('div.v1Nh3 > a')\n",
        "    \n",
        "    for element in tqdm_notebook(for_click_list):\n",
        "        \n",
        "        # 개시물 오픈\n",
        "        element.send_keys('\\n')\n",
        "        time.sleep(5)\n",
        "        \n",
        "        # 댓글란 최대한 열기\n",
        "        while 1:\n",
        "            try:\n",
        "                expansion_comment = driver.find_element_by_css_selector('button.wp06b')\n",
        "                expansion_comment.send_keys('\\n')\n",
        "                time.sleep(3)\n",
        "            except :\n",
        "                print('댓글 페이지를 최대로 확장하였습니다')\n",
        "                break\n",
        "        \n",
        "        \n",
        "        # 게시글 크롤링\n",
        "        comment_body_list = driver.find_elements_by_css_selector('body > div.RnEpo._Yhr4 > div.pbNvD.QZZGH.bW6vo > div > article > div > div.HP0qD > div > div > div.eo2As > div.EtaWk > ul.XQXOT > ul.Mr508')\n",
        "        for comment_body in comment_body_list:\n",
        "            comment = comment_body.find_element_by_css_selector('div > li > div > div.C7I1f > div.C4VMK > span')\n",
        "            time.sleep(1.5)\n",
        "            comment_list.append(comment.text)\n",
        "        print('현재까지 긁어온 댓글의 수 :', len(comment_list))\n",
        "        \n",
        "        \n",
        "        # 게시물 닫기\n",
        "        close_bnt = driver.find_element_by_css_selector('body > div.RnEpo._Yhr4 > div.NOTWr > button')\n",
        "        close_bnt.send_keys('\\n')\n",
        "        \n",
        "    time.sleep(5)"
      ]
    },
    {
      "cell_type": "code",
      "execution_count": null,
      "id": "74ba3fb2",
      "metadata": {
        "id": "74ba3fb2",
        "outputId": "4719469a-9248-4591-84dd-3d1424156dc3"
      },
      "outputs": [
        {
          "data": {
            "text/html": [
              "<div>\n",
              "<style scoped>\n",
              "    .dataframe tbody tr th:only-of-type {\n",
              "        vertical-align: middle;\n",
              "    }\n",
              "\n",
              "    .dataframe tbody tr th {\n",
              "        vertical-align: top;\n",
              "    }\n",
              "\n",
              "    .dataframe thead th {\n",
              "        text-align: right;\n",
              "    }\n",
              "</style>\n",
              "<table border=\"1\" class=\"dataframe\">\n",
              "  <thead>\n",
              "    <tr style=\"text-align: right;\">\n",
              "      <th></th>\n",
              "      <th>댓글</th>\n",
              "    </tr>\n",
              "  </thead>\n",
              "  <tbody>\n",
              "    <tr>\n",
              "      <th>0</th>\n",
              "      <td>잘잤나보네</td>\n",
              "    </tr>\n",
              "    <tr>\n",
              "      <th>1</th>\n",
              "      <td>그만자</td>\n",
              "    </tr>\n",
              "    <tr>\n",
              "      <th>2</th>\n",
              "      <td>아이씨</td>\n",
              "    </tr>\n",
              "    <tr>\n",
              "      <th>3</th>\n",
              "      <td>뭐야 개잘생겼아</td>\n",
              "    </tr>\n",
              "    <tr>\n",
              "      <th>4</th>\n",
              "      <td>❤️❤️❤️🔥🔥🔥😍🔥😍🔥😍🔥😍🔥🥺🥺🥺🤍🤍🤍🤍🥺🤎🤎🤎🤎🤎🥺🤍🤎🤍🤍🤍😻😻😻😻</td>\n",
              "    </tr>\n",
              "  </tbody>\n",
              "</table>\n",
              "</div>"
            ],
            "text/plain": [
              "                                         댓글\n",
              "0                                     잘잤나보네\n",
              "1                                       그만자\n",
              "2                                       아이씨\n",
              "3                                  뭐야 개잘생겼아\n",
              "4  ❤️❤️❤️🔥🔥🔥😍🔥😍🔥😍🔥😍🔥🥺🥺🥺🤍🤍🤍🤍🥺🤎🤎🤎🤎🤎🥺🤍🤎🤍🤍🤍😻😻😻😻"
            ]
          },
          "execution_count": 7,
          "metadata": {},
          "output_type": "execute_result"
        }
      ],
      "source": [
        "data = pd.DataFrame({'댓글' : comment_list})\n",
        "    \n",
        "data.head()"
      ]
    },
    {
      "cell_type": "code",
      "execution_count": null,
      "id": "6728dcde",
      "metadata": {
        "id": "6728dcde"
      },
      "outputs": [],
      "source": [
        "data.to_csv('taejun.csv', encoding='utf-8-sig')"
      ]
    },
    {
      "cell_type": "code",
      "execution_count": null,
      "id": "ab03d475",
      "metadata": {
        "id": "ab03d475"
      },
      "outputs": [],
      "source": [
        ""
      ]
    }
  ],
  "metadata": {
    "kernelspec": {
      "display_name": "Python 3 (ipykernel)",
      "language": "python",
      "name": "python3"
    },
    "language_info": {
      "codemirror_mode": {
        "name": "ipython",
        "version": 3
      },
      "file_extension": ".py",
      "mimetype": "text/x-python",
      "name": "python",
      "nbconvert_exporter": "python",
      "pygments_lexer": "ipython3",
      "version": "3.9.6"
    },
    "colab": {
      "name": "instagram_\btaejun_crawler.ipynb",
      "provenance": []
    }
  },
  "nbformat": 4,
  "nbformat_minor": 5
}